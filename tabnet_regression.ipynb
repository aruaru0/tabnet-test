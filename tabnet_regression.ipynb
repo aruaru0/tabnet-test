{
  "nbformat": 4,
  "nbformat_minor": 0,
  "metadata": {
    "colab": {
      "provenance": [],
      "authorship_tag": "ABX9TyOsTxTyEKcAh8IEVvPvFXHu",
      "include_colab_link": true
    },
    "kernelspec": {
      "name": "python3",
      "display_name": "Python 3"
    },
    "language_info": {
      "name": "python"
    }
  },
  "cells": [
    {
      "cell_type": "markdown",
      "metadata": {
        "id": "view-in-github",
        "colab_type": "text"
      },
      "source": [
        "<a href=\"https://colab.research.google.com/github/aruaru0/tabnet-test/blob/main/tabnet_regression.ipynb\" target=\"_parent\"><img src=\"https://colab.research.google.com/assets/colab-badge.svg\" alt=\"Open In Colab\"/></a>"
      ]
    },
    {
      "cell_type": "markdown",
      "source": [
        "# インストール"
      ],
      "metadata": {
        "id": "juRLJ1GM099l"
      }
    },
    {
      "cell_type": "code",
      "execution_count": 1,
      "metadata": {
        "colab": {
          "base_uri": "https://localhost:8080/"
        },
        "id": "6Z3f0V6-xMmQ",
        "outputId": "041afc96-4070-4c2c-e64c-ebe4ed73975f"
      },
      "outputs": [
        {
          "output_type": "stream",
          "name": "stdout",
          "text": [
            "Collecting pytorch-tabnet\n",
            "  Downloading pytorch_tabnet-4.1.0-py3-none-any.whl (44 kB)\n",
            "\u001b[?25l     \u001b[90m━━━━━━━━━━━━━━━━━━━━━━━━━━━━━━━━━━━━━━━━\u001b[0m \u001b[32m0.0/44.5 kB\u001b[0m \u001b[31m?\u001b[0m eta \u001b[36m-:--:--\u001b[0m\r\u001b[2K     \u001b[90m━━━━━━━━━━━━━━━━━━━━━━━━━━━━━━━━━━━━━━━━\u001b[0m \u001b[32m44.5/44.5 kB\u001b[0m \u001b[31m1.6 MB/s\u001b[0m eta \u001b[36m0:00:00\u001b[0m\n",
            "\u001b[?25hRequirement already satisfied: numpy>=1.17 in /usr/local/lib/python3.10/dist-packages (from pytorch-tabnet) (1.23.5)\n",
            "Requirement already satisfied: scikit_learn>0.21 in /usr/local/lib/python3.10/dist-packages (from pytorch-tabnet) (1.2.2)\n",
            "Requirement already satisfied: scipy>1.4 in /usr/local/lib/python3.10/dist-packages (from pytorch-tabnet) (1.11.4)\n",
            "Requirement already satisfied: torch>=1.3 in /usr/local/lib/python3.10/dist-packages (from pytorch-tabnet) (2.1.0+cu121)\n",
            "Requirement already satisfied: tqdm>=4.36 in /usr/local/lib/python3.10/dist-packages (from pytorch-tabnet) (4.66.1)\n",
            "Requirement already satisfied: joblib>=1.1.1 in /usr/local/lib/python3.10/dist-packages (from scikit_learn>0.21->pytorch-tabnet) (1.3.2)\n",
            "Requirement already satisfied: threadpoolctl>=2.0.0 in /usr/local/lib/python3.10/dist-packages (from scikit_learn>0.21->pytorch-tabnet) (3.2.0)\n",
            "Requirement already satisfied: filelock in /usr/local/lib/python3.10/dist-packages (from torch>=1.3->pytorch-tabnet) (3.13.1)\n",
            "Requirement already satisfied: typing-extensions in /usr/local/lib/python3.10/dist-packages (from torch>=1.3->pytorch-tabnet) (4.9.0)\n",
            "Requirement already satisfied: sympy in /usr/local/lib/python3.10/dist-packages (from torch>=1.3->pytorch-tabnet) (1.12)\n",
            "Requirement already satisfied: networkx in /usr/local/lib/python3.10/dist-packages (from torch>=1.3->pytorch-tabnet) (3.2.1)\n",
            "Requirement already satisfied: jinja2 in /usr/local/lib/python3.10/dist-packages (from torch>=1.3->pytorch-tabnet) (3.1.3)\n",
            "Requirement already satisfied: fsspec in /usr/local/lib/python3.10/dist-packages (from torch>=1.3->pytorch-tabnet) (2023.6.0)\n",
            "Requirement already satisfied: triton==2.1.0 in /usr/local/lib/python3.10/dist-packages (from torch>=1.3->pytorch-tabnet) (2.1.0)\n",
            "Requirement already satisfied: MarkupSafe>=2.0 in /usr/local/lib/python3.10/dist-packages (from jinja2->torch>=1.3->pytorch-tabnet) (2.1.5)\n",
            "Requirement already satisfied: mpmath>=0.19 in /usr/local/lib/python3.10/dist-packages (from sympy->torch>=1.3->pytorch-tabnet) (1.3.0)\n",
            "Installing collected packages: pytorch-tabnet\n",
            "Successfully installed pytorch-tabnet-4.1.0\n"
          ]
        }
      ],
      "source": [
        "!pip install pytorch-tabnet"
      ]
    },
    {
      "cell_type": "markdown",
      "source": [
        "# ライブラリのインポート"
      ],
      "metadata": {
        "id": "CilmnMtX1AZj"
      }
    },
    {
      "cell_type": "code",
      "source": [
        "import numpy as np\n",
        "import pandas as pd\n",
        "\n",
        "import matplotlib.pyplot as plt\n",
        "from sklearn.datasets import make_regression\n",
        "from sklearn.model_selection import train_test_split\n",
        "from sklearn.metrics import mean_squared_error\n",
        "\n",
        "from pytorch_tabnet.tab_model import TabNetRegressor\n",
        "from pytorch_tabnet.pretraining import TabNetPretrainer\n",
        "\n",
        "import torch"
      ],
      "metadata": {
        "id": "5S7VTgYKxsPX"
      },
      "execution_count": 2,
      "outputs": []
    },
    {
      "cell_type": "markdown",
      "source": [
        "## データの作成"
      ],
      "metadata": {
        "id": "q6XUmadK1C11"
      }
    },
    {
      "cell_type": "code",
      "source": [
        "X, Y, coef = make_regression(\n",
        "                       random_state=42,\n",
        "                       n_samples=10000,\n",
        "                       n_features=10,\n",
        "                       n_informative=5,\n",
        "                       noise=1,\n",
        "                       bias=1.0,\n",
        "                       coef=True)"
      ],
      "metadata": {
        "id": "skE3TeQz0Ep8"
      },
      "execution_count": 3,
      "outputs": []
    },
    {
      "cell_type": "code",
      "source": [
        "for i, c in enumerate(coef):\n",
        "  print(f\"feature {i} : {c}\")"
      ],
      "metadata": {
        "colab": {
          "base_uri": "https://localhost:8080/"
        },
        "id": "1IIuWpWd39Ug",
        "outputId": "7ef306aa-9b65-4c87-a1fb-ab1ed4d312d5"
      },
      "execution_count": 4,
      "outputs": [
        {
          "output_type": "stream",
          "name": "stdout",
          "text": [
            "feature 0 : 0.0\n",
            "feature 1 : 19.365117777553486\n",
            "feature 2 : 0.0\n",
            "feature 3 : 68.28011328758366\n",
            "feature 4 : 0.0\n",
            "feature 5 : 8.88918861576965\n",
            "feature 6 : 0.0\n",
            "feature 7 : 29.506960083972224\n",
            "feature 8 : 0.0\n",
            "feature 9 : 78.46795175040386\n"
          ]
        }
      ]
    },
    {
      "cell_type": "code",
      "source": [
        "df = pd.DataFrame(X)\n",
        "df['target'] = Y\n",
        "df.head(20)"
      ],
      "metadata": {
        "colab": {
          "base_uri": "https://localhost:8080/",
          "height": 677
        },
        "id": "YlbVM5LX141_",
        "outputId": "1dc68dbb-357b-4baa-86a9-0bb8494faf5b"
      },
      "execution_count": 5,
      "outputs": [
        {
          "output_type": "execute_result",
          "data": {
            "text/plain": [
              "           0         1         2         3         4         5         6  \\\n",
              "0   0.078577  0.428317  0.458168 -0.340908 -0.165631 -0.593811 -2.128734   \n",
              "1   0.736466 -1.942549  1.346121  2.742017 -1.627080  0.803719  1.226826   \n",
              "2  -0.559654 -1.052523  0.492715 -1.158793  0.068824 -1.083666 -0.180136   \n",
              "3   0.899042 -0.463797  0.482040  1.797545  0.843989 -0.969279  2.397024   \n",
              "4   0.461063  1.213479  1.385060 -0.200637 -0.025790  0.120968  0.631484   \n",
              "5   0.733670  1.371056  2.400779  0.803245  0.742062 -0.191084 -1.117174   \n",
              "6   0.734280  0.892507  0.235979  1.404952 -0.735630  0.750165  1.230795   \n",
              "7   0.282646 -1.794897  0.546343 -1.307643  0.128129  0.342529  0.978516   \n",
              "8   1.534001  0.046938 -0.055847 -0.640659  1.409895  0.031321  1.524871   \n",
              "9   0.358256 -0.360202  0.100455 -0.424502 -0.174934 -0.107015 -0.424285   \n",
              "10  2.202994 -0.494311 -0.171427 -1.296222  0.019316 -3.004652  0.689961   \n",
              "11  1.160048 -0.372318 -0.932559  1.068705 -0.394090  0.548879  0.445397   \n",
              "12  1.715423  0.698131  1.563935 -0.840889  0.170701 -1.371620  0.870416   \n",
              "13 -0.002404 -1.548961 -1.092164 -0.904068  0.475168  1.103877 -0.589272   \n",
              "14 -0.551246 -0.612849 -0.629469 -0.863880  0.459806 -0.536521 -0.509111   \n",
              "15  0.723761  0.117074 -0.763884  1.460010  0.465960 -0.650484 -1.016268   \n",
              "16 -0.067010  0.242594  0.559013 -1.483259  1.096640  0.523970 -2.372253   \n",
              "17  0.107754  1.953625 -1.014274  0.899308 -0.138772 -0.773544 -1.794058   \n",
              "18 -1.347126  2.013387  1.200414 -0.677715  0.184680 -0.365322 -0.971614   \n",
              "19 -0.305417  0.201437  0.760745 -0.182450  0.092805  0.054726  1.418397   \n",
              "\n",
              "           7         8         9      target  \n",
              "0  -0.519396 -0.979721  0.077156  -31.086145  \n",
              "1  -1.263887  0.066717 -1.191329   26.932057  \n",
              "2   0.143631 -0.304065 -2.086849 -267.826781  \n",
              "3   0.786121  0.724094  0.405030  160.509231  \n",
              "4   0.425034  1.211433 -0.132404   14.531686  \n",
              "5   0.622949 -0.613527  0.618200  147.916110  \n",
              "6   0.061171  1.004032  0.085190  128.595873  \n",
              "7   0.180550  0.386655  0.826468  -50.249197  \n",
              "8  -0.441486 -0.478218  0.893628   14.779530  \n",
              "9   1.332879 -1.611653 -0.329696  -21.946090  \n",
              "10 -0.973341 -0.815304 -0.317122 -178.368294  \n",
              "11 -0.428602  1.858803  1.565455  181.273213  \n",
              "12 -0.125282  0.363816  0.947704   14.399769  \n",
              "13  0.196131  0.834751  0.257976  -56.205955  \n",
              "14  0.611385 -0.182641  1.137462   34.452205  \n",
              "15 -0.465170 -0.533117 -1.094801   -3.003752  \n",
              "16 -0.132064 -1.009870 -0.281326 -116.908741  \n",
              "17 -0.657577 -1.506113 -0.364929   47.116219  \n",
              "18  0.459972 -0.656894  0.136535   16.018315  \n",
              "19  0.856414  0.018382  0.163777   31.720480  "
            ],
            "text/html": [
              "\n",
              "  <div id=\"df-d0fb4ebe-7a55-4db6-85e7-5d6969f70e6e\" class=\"colab-df-container\">\n",
              "    <div>\n",
              "<style scoped>\n",
              "    .dataframe tbody tr th:only-of-type {\n",
              "        vertical-align: middle;\n",
              "    }\n",
              "\n",
              "    .dataframe tbody tr th {\n",
              "        vertical-align: top;\n",
              "    }\n",
              "\n",
              "    .dataframe thead th {\n",
              "        text-align: right;\n",
              "    }\n",
              "</style>\n",
              "<table border=\"1\" class=\"dataframe\">\n",
              "  <thead>\n",
              "    <tr style=\"text-align: right;\">\n",
              "      <th></th>\n",
              "      <th>0</th>\n",
              "      <th>1</th>\n",
              "      <th>2</th>\n",
              "      <th>3</th>\n",
              "      <th>4</th>\n",
              "      <th>5</th>\n",
              "      <th>6</th>\n",
              "      <th>7</th>\n",
              "      <th>8</th>\n",
              "      <th>9</th>\n",
              "      <th>target</th>\n",
              "    </tr>\n",
              "  </thead>\n",
              "  <tbody>\n",
              "    <tr>\n",
              "      <th>0</th>\n",
              "      <td>0.078577</td>\n",
              "      <td>0.428317</td>\n",
              "      <td>0.458168</td>\n",
              "      <td>-0.340908</td>\n",
              "      <td>-0.165631</td>\n",
              "      <td>-0.593811</td>\n",
              "      <td>-2.128734</td>\n",
              "      <td>-0.519396</td>\n",
              "      <td>-0.979721</td>\n",
              "      <td>0.077156</td>\n",
              "      <td>-31.086145</td>\n",
              "    </tr>\n",
              "    <tr>\n",
              "      <th>1</th>\n",
              "      <td>0.736466</td>\n",
              "      <td>-1.942549</td>\n",
              "      <td>1.346121</td>\n",
              "      <td>2.742017</td>\n",
              "      <td>-1.627080</td>\n",
              "      <td>0.803719</td>\n",
              "      <td>1.226826</td>\n",
              "      <td>-1.263887</td>\n",
              "      <td>0.066717</td>\n",
              "      <td>-1.191329</td>\n",
              "      <td>26.932057</td>\n",
              "    </tr>\n",
              "    <tr>\n",
              "      <th>2</th>\n",
              "      <td>-0.559654</td>\n",
              "      <td>-1.052523</td>\n",
              "      <td>0.492715</td>\n",
              "      <td>-1.158793</td>\n",
              "      <td>0.068824</td>\n",
              "      <td>-1.083666</td>\n",
              "      <td>-0.180136</td>\n",
              "      <td>0.143631</td>\n",
              "      <td>-0.304065</td>\n",
              "      <td>-2.086849</td>\n",
              "      <td>-267.826781</td>\n",
              "    </tr>\n",
              "    <tr>\n",
              "      <th>3</th>\n",
              "      <td>0.899042</td>\n",
              "      <td>-0.463797</td>\n",
              "      <td>0.482040</td>\n",
              "      <td>1.797545</td>\n",
              "      <td>0.843989</td>\n",
              "      <td>-0.969279</td>\n",
              "      <td>2.397024</td>\n",
              "      <td>0.786121</td>\n",
              "      <td>0.724094</td>\n",
              "      <td>0.405030</td>\n",
              "      <td>160.509231</td>\n",
              "    </tr>\n",
              "    <tr>\n",
              "      <th>4</th>\n",
              "      <td>0.461063</td>\n",
              "      <td>1.213479</td>\n",
              "      <td>1.385060</td>\n",
              "      <td>-0.200637</td>\n",
              "      <td>-0.025790</td>\n",
              "      <td>0.120968</td>\n",
              "      <td>0.631484</td>\n",
              "      <td>0.425034</td>\n",
              "      <td>1.211433</td>\n",
              "      <td>-0.132404</td>\n",
              "      <td>14.531686</td>\n",
              "    </tr>\n",
              "    <tr>\n",
              "      <th>5</th>\n",
              "      <td>0.733670</td>\n",
              "      <td>1.371056</td>\n",
              "      <td>2.400779</td>\n",
              "      <td>0.803245</td>\n",
              "      <td>0.742062</td>\n",
              "      <td>-0.191084</td>\n",
              "      <td>-1.117174</td>\n",
              "      <td>0.622949</td>\n",
              "      <td>-0.613527</td>\n",
              "      <td>0.618200</td>\n",
              "      <td>147.916110</td>\n",
              "    </tr>\n",
              "    <tr>\n",
              "      <th>6</th>\n",
              "      <td>0.734280</td>\n",
              "      <td>0.892507</td>\n",
              "      <td>0.235979</td>\n",
              "      <td>1.404952</td>\n",
              "      <td>-0.735630</td>\n",
              "      <td>0.750165</td>\n",
              "      <td>1.230795</td>\n",
              "      <td>0.061171</td>\n",
              "      <td>1.004032</td>\n",
              "      <td>0.085190</td>\n",
              "      <td>128.595873</td>\n",
              "    </tr>\n",
              "    <tr>\n",
              "      <th>7</th>\n",
              "      <td>0.282646</td>\n",
              "      <td>-1.794897</td>\n",
              "      <td>0.546343</td>\n",
              "      <td>-1.307643</td>\n",
              "      <td>0.128129</td>\n",
              "      <td>0.342529</td>\n",
              "      <td>0.978516</td>\n",
              "      <td>0.180550</td>\n",
              "      <td>0.386655</td>\n",
              "      <td>0.826468</td>\n",
              "      <td>-50.249197</td>\n",
              "    </tr>\n",
              "    <tr>\n",
              "      <th>8</th>\n",
              "      <td>1.534001</td>\n",
              "      <td>0.046938</td>\n",
              "      <td>-0.055847</td>\n",
              "      <td>-0.640659</td>\n",
              "      <td>1.409895</td>\n",
              "      <td>0.031321</td>\n",
              "      <td>1.524871</td>\n",
              "      <td>-0.441486</td>\n",
              "      <td>-0.478218</td>\n",
              "      <td>0.893628</td>\n",
              "      <td>14.779530</td>\n",
              "    </tr>\n",
              "    <tr>\n",
              "      <th>9</th>\n",
              "      <td>0.358256</td>\n",
              "      <td>-0.360202</td>\n",
              "      <td>0.100455</td>\n",
              "      <td>-0.424502</td>\n",
              "      <td>-0.174934</td>\n",
              "      <td>-0.107015</td>\n",
              "      <td>-0.424285</td>\n",
              "      <td>1.332879</td>\n",
              "      <td>-1.611653</td>\n",
              "      <td>-0.329696</td>\n",
              "      <td>-21.946090</td>\n",
              "    </tr>\n",
              "    <tr>\n",
              "      <th>10</th>\n",
              "      <td>2.202994</td>\n",
              "      <td>-0.494311</td>\n",
              "      <td>-0.171427</td>\n",
              "      <td>-1.296222</td>\n",
              "      <td>0.019316</td>\n",
              "      <td>-3.004652</td>\n",
              "      <td>0.689961</td>\n",
              "      <td>-0.973341</td>\n",
              "      <td>-0.815304</td>\n",
              "      <td>-0.317122</td>\n",
              "      <td>-178.368294</td>\n",
              "    </tr>\n",
              "    <tr>\n",
              "      <th>11</th>\n",
              "      <td>1.160048</td>\n",
              "      <td>-0.372318</td>\n",
              "      <td>-0.932559</td>\n",
              "      <td>1.068705</td>\n",
              "      <td>-0.394090</td>\n",
              "      <td>0.548879</td>\n",
              "      <td>0.445397</td>\n",
              "      <td>-0.428602</td>\n",
              "      <td>1.858803</td>\n",
              "      <td>1.565455</td>\n",
              "      <td>181.273213</td>\n",
              "    </tr>\n",
              "    <tr>\n",
              "      <th>12</th>\n",
              "      <td>1.715423</td>\n",
              "      <td>0.698131</td>\n",
              "      <td>1.563935</td>\n",
              "      <td>-0.840889</td>\n",
              "      <td>0.170701</td>\n",
              "      <td>-1.371620</td>\n",
              "      <td>0.870416</td>\n",
              "      <td>-0.125282</td>\n",
              "      <td>0.363816</td>\n",
              "      <td>0.947704</td>\n",
              "      <td>14.399769</td>\n",
              "    </tr>\n",
              "    <tr>\n",
              "      <th>13</th>\n",
              "      <td>-0.002404</td>\n",
              "      <td>-1.548961</td>\n",
              "      <td>-1.092164</td>\n",
              "      <td>-0.904068</td>\n",
              "      <td>0.475168</td>\n",
              "      <td>1.103877</td>\n",
              "      <td>-0.589272</td>\n",
              "      <td>0.196131</td>\n",
              "      <td>0.834751</td>\n",
              "      <td>0.257976</td>\n",
              "      <td>-56.205955</td>\n",
              "    </tr>\n",
              "    <tr>\n",
              "      <th>14</th>\n",
              "      <td>-0.551246</td>\n",
              "      <td>-0.612849</td>\n",
              "      <td>-0.629469</td>\n",
              "      <td>-0.863880</td>\n",
              "      <td>0.459806</td>\n",
              "      <td>-0.536521</td>\n",
              "      <td>-0.509111</td>\n",
              "      <td>0.611385</td>\n",
              "      <td>-0.182641</td>\n",
              "      <td>1.137462</td>\n",
              "      <td>34.452205</td>\n",
              "    </tr>\n",
              "    <tr>\n",
              "      <th>15</th>\n",
              "      <td>0.723761</td>\n",
              "      <td>0.117074</td>\n",
              "      <td>-0.763884</td>\n",
              "      <td>1.460010</td>\n",
              "      <td>0.465960</td>\n",
              "      <td>-0.650484</td>\n",
              "      <td>-1.016268</td>\n",
              "      <td>-0.465170</td>\n",
              "      <td>-0.533117</td>\n",
              "      <td>-1.094801</td>\n",
              "      <td>-3.003752</td>\n",
              "    </tr>\n",
              "    <tr>\n",
              "      <th>16</th>\n",
              "      <td>-0.067010</td>\n",
              "      <td>0.242594</td>\n",
              "      <td>0.559013</td>\n",
              "      <td>-1.483259</td>\n",
              "      <td>1.096640</td>\n",
              "      <td>0.523970</td>\n",
              "      <td>-2.372253</td>\n",
              "      <td>-0.132064</td>\n",
              "      <td>-1.009870</td>\n",
              "      <td>-0.281326</td>\n",
              "      <td>-116.908741</td>\n",
              "    </tr>\n",
              "    <tr>\n",
              "      <th>17</th>\n",
              "      <td>0.107754</td>\n",
              "      <td>1.953625</td>\n",
              "      <td>-1.014274</td>\n",
              "      <td>0.899308</td>\n",
              "      <td>-0.138772</td>\n",
              "      <td>-0.773544</td>\n",
              "      <td>-1.794058</td>\n",
              "      <td>-0.657577</td>\n",
              "      <td>-1.506113</td>\n",
              "      <td>-0.364929</td>\n",
              "      <td>47.116219</td>\n",
              "    </tr>\n",
              "    <tr>\n",
              "      <th>18</th>\n",
              "      <td>-1.347126</td>\n",
              "      <td>2.013387</td>\n",
              "      <td>1.200414</td>\n",
              "      <td>-0.677715</td>\n",
              "      <td>0.184680</td>\n",
              "      <td>-0.365322</td>\n",
              "      <td>-0.971614</td>\n",
              "      <td>0.459972</td>\n",
              "      <td>-0.656894</td>\n",
              "      <td>0.136535</td>\n",
              "      <td>16.018315</td>\n",
              "    </tr>\n",
              "    <tr>\n",
              "      <th>19</th>\n",
              "      <td>-0.305417</td>\n",
              "      <td>0.201437</td>\n",
              "      <td>0.760745</td>\n",
              "      <td>-0.182450</td>\n",
              "      <td>0.092805</td>\n",
              "      <td>0.054726</td>\n",
              "      <td>1.418397</td>\n",
              "      <td>0.856414</td>\n",
              "      <td>0.018382</td>\n",
              "      <td>0.163777</td>\n",
              "      <td>31.720480</td>\n",
              "    </tr>\n",
              "  </tbody>\n",
              "</table>\n",
              "</div>\n",
              "    <div class=\"colab-df-buttons\">\n",
              "\n",
              "  <div class=\"colab-df-container\">\n",
              "    <button class=\"colab-df-convert\" onclick=\"convertToInteractive('df-d0fb4ebe-7a55-4db6-85e7-5d6969f70e6e')\"\n",
              "            title=\"Convert this dataframe to an interactive table.\"\n",
              "            style=\"display:none;\">\n",
              "\n",
              "  <svg xmlns=\"http://www.w3.org/2000/svg\" height=\"24px\" viewBox=\"0 -960 960 960\">\n",
              "    <path d=\"M120-120v-720h720v720H120Zm60-500h600v-160H180v160Zm220 220h160v-160H400v160Zm0 220h160v-160H400v160ZM180-400h160v-160H180v160Zm440 0h160v-160H620v160ZM180-180h160v-160H180v160Zm440 0h160v-160H620v160Z\"/>\n",
              "  </svg>\n",
              "    </button>\n",
              "\n",
              "  <style>\n",
              "    .colab-df-container {\n",
              "      display:flex;\n",
              "      gap: 12px;\n",
              "    }\n",
              "\n",
              "    .colab-df-convert {\n",
              "      background-color: #E8F0FE;\n",
              "      border: none;\n",
              "      border-radius: 50%;\n",
              "      cursor: pointer;\n",
              "      display: none;\n",
              "      fill: #1967D2;\n",
              "      height: 32px;\n",
              "      padding: 0 0 0 0;\n",
              "      width: 32px;\n",
              "    }\n",
              "\n",
              "    .colab-df-convert:hover {\n",
              "      background-color: #E2EBFA;\n",
              "      box-shadow: 0px 1px 2px rgba(60, 64, 67, 0.3), 0px 1px 3px 1px rgba(60, 64, 67, 0.15);\n",
              "      fill: #174EA6;\n",
              "    }\n",
              "\n",
              "    .colab-df-buttons div {\n",
              "      margin-bottom: 4px;\n",
              "    }\n",
              "\n",
              "    [theme=dark] .colab-df-convert {\n",
              "      background-color: #3B4455;\n",
              "      fill: #D2E3FC;\n",
              "    }\n",
              "\n",
              "    [theme=dark] .colab-df-convert:hover {\n",
              "      background-color: #434B5C;\n",
              "      box-shadow: 0px 1px 3px 1px rgba(0, 0, 0, 0.15);\n",
              "      filter: drop-shadow(0px 1px 2px rgba(0, 0, 0, 0.3));\n",
              "      fill: #FFFFFF;\n",
              "    }\n",
              "  </style>\n",
              "\n",
              "    <script>\n",
              "      const buttonEl =\n",
              "        document.querySelector('#df-d0fb4ebe-7a55-4db6-85e7-5d6969f70e6e button.colab-df-convert');\n",
              "      buttonEl.style.display =\n",
              "        google.colab.kernel.accessAllowed ? 'block' : 'none';\n",
              "\n",
              "      async function convertToInteractive(key) {\n",
              "        const element = document.querySelector('#df-d0fb4ebe-7a55-4db6-85e7-5d6969f70e6e');\n",
              "        const dataTable =\n",
              "          await google.colab.kernel.invokeFunction('convertToInteractive',\n",
              "                                                    [key], {});\n",
              "        if (!dataTable) return;\n",
              "\n",
              "        const docLinkHtml = 'Like what you see? Visit the ' +\n",
              "          '<a target=\"_blank\" href=https://colab.research.google.com/notebooks/data_table.ipynb>data table notebook</a>'\n",
              "          + ' to learn more about interactive tables.';\n",
              "        element.innerHTML = '';\n",
              "        dataTable['output_type'] = 'display_data';\n",
              "        await google.colab.output.renderOutput(dataTable, element);\n",
              "        const docLink = document.createElement('div');\n",
              "        docLink.innerHTML = docLinkHtml;\n",
              "        element.appendChild(docLink);\n",
              "      }\n",
              "    </script>\n",
              "  </div>\n",
              "\n",
              "\n",
              "<div id=\"df-13252364-36fe-46ce-b447-d5573df19518\">\n",
              "  <button class=\"colab-df-quickchart\" onclick=\"quickchart('df-13252364-36fe-46ce-b447-d5573df19518')\"\n",
              "            title=\"Suggest charts\"\n",
              "            style=\"display:none;\">\n",
              "\n",
              "<svg xmlns=\"http://www.w3.org/2000/svg\" height=\"24px\"viewBox=\"0 0 24 24\"\n",
              "     width=\"24px\">\n",
              "    <g>\n",
              "        <path d=\"M19 3H5c-1.1 0-2 .9-2 2v14c0 1.1.9 2 2 2h14c1.1 0 2-.9 2-2V5c0-1.1-.9-2-2-2zM9 17H7v-7h2v7zm4 0h-2V7h2v10zm4 0h-2v-4h2v4z\"/>\n",
              "    </g>\n",
              "</svg>\n",
              "  </button>\n",
              "\n",
              "<style>\n",
              "  .colab-df-quickchart {\n",
              "      --bg-color: #E8F0FE;\n",
              "      --fill-color: #1967D2;\n",
              "      --hover-bg-color: #E2EBFA;\n",
              "      --hover-fill-color: #174EA6;\n",
              "      --disabled-fill-color: #AAA;\n",
              "      --disabled-bg-color: #DDD;\n",
              "  }\n",
              "\n",
              "  [theme=dark] .colab-df-quickchart {\n",
              "      --bg-color: #3B4455;\n",
              "      --fill-color: #D2E3FC;\n",
              "      --hover-bg-color: #434B5C;\n",
              "      --hover-fill-color: #FFFFFF;\n",
              "      --disabled-bg-color: #3B4455;\n",
              "      --disabled-fill-color: #666;\n",
              "  }\n",
              "\n",
              "  .colab-df-quickchart {\n",
              "    background-color: var(--bg-color);\n",
              "    border: none;\n",
              "    border-radius: 50%;\n",
              "    cursor: pointer;\n",
              "    display: none;\n",
              "    fill: var(--fill-color);\n",
              "    height: 32px;\n",
              "    padding: 0;\n",
              "    width: 32px;\n",
              "  }\n",
              "\n",
              "  .colab-df-quickchart:hover {\n",
              "    background-color: var(--hover-bg-color);\n",
              "    box-shadow: 0 1px 2px rgba(60, 64, 67, 0.3), 0 1px 3px 1px rgba(60, 64, 67, 0.15);\n",
              "    fill: var(--button-hover-fill-color);\n",
              "  }\n",
              "\n",
              "  .colab-df-quickchart-complete:disabled,\n",
              "  .colab-df-quickchart-complete:disabled:hover {\n",
              "    background-color: var(--disabled-bg-color);\n",
              "    fill: var(--disabled-fill-color);\n",
              "    box-shadow: none;\n",
              "  }\n",
              "\n",
              "  .colab-df-spinner {\n",
              "    border: 2px solid var(--fill-color);\n",
              "    border-color: transparent;\n",
              "    border-bottom-color: var(--fill-color);\n",
              "    animation:\n",
              "      spin 1s steps(1) infinite;\n",
              "  }\n",
              "\n",
              "  @keyframes spin {\n",
              "    0% {\n",
              "      border-color: transparent;\n",
              "      border-bottom-color: var(--fill-color);\n",
              "      border-left-color: var(--fill-color);\n",
              "    }\n",
              "    20% {\n",
              "      border-color: transparent;\n",
              "      border-left-color: var(--fill-color);\n",
              "      border-top-color: var(--fill-color);\n",
              "    }\n",
              "    30% {\n",
              "      border-color: transparent;\n",
              "      border-left-color: var(--fill-color);\n",
              "      border-top-color: var(--fill-color);\n",
              "      border-right-color: var(--fill-color);\n",
              "    }\n",
              "    40% {\n",
              "      border-color: transparent;\n",
              "      border-right-color: var(--fill-color);\n",
              "      border-top-color: var(--fill-color);\n",
              "    }\n",
              "    60% {\n",
              "      border-color: transparent;\n",
              "      border-right-color: var(--fill-color);\n",
              "    }\n",
              "    80% {\n",
              "      border-color: transparent;\n",
              "      border-right-color: var(--fill-color);\n",
              "      border-bottom-color: var(--fill-color);\n",
              "    }\n",
              "    90% {\n",
              "      border-color: transparent;\n",
              "      border-bottom-color: var(--fill-color);\n",
              "    }\n",
              "  }\n",
              "</style>\n",
              "\n",
              "  <script>\n",
              "    async function quickchart(key) {\n",
              "      const quickchartButtonEl =\n",
              "        document.querySelector('#' + key + ' button');\n",
              "      quickchartButtonEl.disabled = true;  // To prevent multiple clicks.\n",
              "      quickchartButtonEl.classList.add('colab-df-spinner');\n",
              "      try {\n",
              "        const charts = await google.colab.kernel.invokeFunction(\n",
              "            'suggestCharts', [key], {});\n",
              "      } catch (error) {\n",
              "        console.error('Error during call to suggestCharts:', error);\n",
              "      }\n",
              "      quickchartButtonEl.classList.remove('colab-df-spinner');\n",
              "      quickchartButtonEl.classList.add('colab-df-quickchart-complete');\n",
              "    }\n",
              "    (() => {\n",
              "      let quickchartButtonEl =\n",
              "        document.querySelector('#df-13252364-36fe-46ce-b447-d5573df19518 button');\n",
              "      quickchartButtonEl.style.display =\n",
              "        google.colab.kernel.accessAllowed ? 'block' : 'none';\n",
              "    })();\n",
              "  </script>\n",
              "</div>\n",
              "\n",
              "    </div>\n",
              "  </div>\n"
            ]
          },
          "metadata": {},
          "execution_count": 5
        }
      ]
    },
    {
      "cell_type": "code",
      "source": [
        "train_rate, val_rate, test_rate = 0.7, 0.15, 0.15\n",
        "\n",
        "X_train, X_test, y_train, y_test = train_test_split(X, Y, train_size=train_rate, random_state=42)\n",
        "X_valid, X_test, y_valid, y_test = train_test_split(X_test, y_test, test_size=test_rate/(test_rate+val_rate), random_state=42)"
      ],
      "metadata": {
        "id": "kuyHPRezxjAo"
      },
      "execution_count": 6,
      "outputs": []
    },
    {
      "cell_type": "code",
      "source": [
        "y_train = y_train.reshape(-1, 1)\n",
        "y_valid = y_valid.reshape(-1, 1)\n",
        "y_test = y_test.reshape(-1, 1)"
      ],
      "metadata": {
        "id": "g3djsFZO0neN"
      },
      "execution_count": 7,
      "outputs": []
    },
    {
      "cell_type": "code",
      "source": [
        "len(X_train), len(X_valid), len(X_test)"
      ],
      "metadata": {
        "colab": {
          "base_uri": "https://localhost:8080/"
        },
        "id": "Oh3S1WhAyBL7",
        "outputId": "c68669cd-f0f6-4cf4-f6be-3bc44d329a41"
      },
      "execution_count": 8,
      "outputs": [
        {
          "output_type": "execute_result",
          "data": {
            "text/plain": [
              "(7000, 1500, 1500)"
            ]
          },
          "metadata": {},
          "execution_count": 8
        }
      ]
    },
    {
      "cell_type": "code",
      "source": [
        "X_train.shape, y_train.shape, X_valid.shape, y_valid.shape"
      ],
      "metadata": {
        "id": "y4Ba3ueHyRm6",
        "colab": {
          "base_uri": "https://localhost:8080/"
        },
        "outputId": "3e499372-92b6-40fc-a7ad-ac44487f399c"
      },
      "execution_count": 9,
      "outputs": [
        {
          "output_type": "execute_result",
          "data": {
            "text/plain": [
              "((7000, 10), (7000, 1), (1500, 10), (1500, 1))"
            ]
          },
          "metadata": {},
          "execution_count": 9
        }
      ]
    },
    {
      "cell_type": "markdown",
      "source": [
        "# TabNetを使って予測"
      ],
      "metadata": {
        "id": "BEHbinvV0om4"
      }
    },
    {
      "cell_type": "markdown",
      "source": [
        "## 事前学習"
      ],
      "metadata": {
        "id": "-4rAB9Um-10a"
      }
    },
    {
      "cell_type": "code",
      "source": [
        "unsupervised_model = TabNetPretrainer(\n",
        "    optimizer_fn=torch.optim.Adam,\n",
        "    optimizer_params=dict(lr=2e-2),\n",
        "    mask_type='entmax'\n",
        ")\n",
        "\n",
        "unsupervised_model.fit(\n",
        "    X_train=X_train,\n",
        "    eval_set=[X_valid],\n",
        "    pretraining_ratio=0.8,\n",
        "    max_epochs = 100,\n",
        ")"
      ],
      "metadata": {
        "colab": {
          "base_uri": "https://localhost:8080/"
        },
        "id": "TtIY8dS-9usI",
        "outputId": "3dfdb9f7-1992-4657-dfac-5c9ea7bf03d6"
      },
      "execution_count": 10,
      "outputs": [
        {
          "output_type": "stream",
          "name": "stderr",
          "text": [
            "/usr/local/lib/python3.10/dist-packages/pytorch_tabnet/abstract_model.py:82: UserWarning: Device used : cpu\n",
            "  warnings.warn(f\"Device used : {self.device}\")\n"
          ]
        },
        {
          "output_type": "stream",
          "name": "stdout",
          "text": [
            "epoch 0  | loss: 3.38042 | val_0_unsup_loss_numpy: 1.1094199419021606|  0:00:00s\n",
            "epoch 1  | loss: 1.45138 | val_0_unsup_loss_numpy: 1.0236999988555908|  0:00:01s\n",
            "epoch 2  | loss: 1.1361  | val_0_unsup_loss_numpy: 1.0139100551605225|  0:00:01s\n",
            "epoch 3  | loss: 1.05849 | val_0_unsup_loss_numpy: 1.0106899738311768|  0:00:02s\n",
            "epoch 4  | loss: 1.027   | val_0_unsup_loss_numpy: 1.0062600374221802|  0:00:03s\n",
            "epoch 5  | loss: 1.02112 | val_0_unsup_loss_numpy: 1.0042500495910645|  0:00:04s\n",
            "epoch 6  | loss: 1.01256 | val_0_unsup_loss_numpy: 1.001829981803894|  0:00:05s\n",
            "epoch 7  | loss: 1.00612 | val_0_unsup_loss_numpy: 1.0001499652862549|  0:00:06s\n",
            "epoch 8  | loss: 0.99998 | val_0_unsup_loss_numpy: 0.9978100061416626|  0:00:07s\n",
            "epoch 9  | loss: 1.00453 | val_0_unsup_loss_numpy: 0.9981099963188171|  0:00:08s\n",
            "epoch 10 | loss: 1.00368 | val_0_unsup_loss_numpy: 0.9984700083732605|  0:00:08s\n",
            "epoch 11 | loss: 1.00775 | val_0_unsup_loss_numpy: 0.9974200129508972|  0:00:09s\n",
            "epoch 12 | loss: 1.00019 | val_0_unsup_loss_numpy: 0.9958900213241577|  0:00:10s\n",
            "epoch 13 | loss: 1.00586 | val_0_unsup_loss_numpy: 0.9967700242996216|  0:00:12s\n",
            "epoch 14 | loss: 0.99652 | val_0_unsup_loss_numpy: 0.9977999925613403|  0:00:13s\n",
            "epoch 15 | loss: 1.00552 | val_0_unsup_loss_numpy: 0.9977700114250183|  0:00:14s\n",
            "epoch 16 | loss: 1.00304 | val_0_unsup_loss_numpy: 0.9986500144004822|  0:00:14s\n",
            "epoch 17 | loss: 1.00396 | val_0_unsup_loss_numpy: 0.9989699721336365|  0:00:15s\n",
            "epoch 18 | loss: 1.006   | val_0_unsup_loss_numpy: 0.9985799789428711|  0:00:16s\n",
            "epoch 19 | loss: 1.00521 | val_0_unsup_loss_numpy: 0.9987599849700928|  0:00:17s\n",
            "epoch 20 | loss: 0.9994  | val_0_unsup_loss_numpy: 0.9962800145149231|  0:00:18s\n",
            "epoch 21 | loss: 1.00444 | val_0_unsup_loss_numpy: 0.9996399879455566|  0:00:19s\n",
            "epoch 22 | loss: 1.00363 | val_0_unsup_loss_numpy: 0.9986500144004822|  0:00:19s\n",
            "\n",
            "Early stopping occurred at epoch 22 with best_epoch = 12 and best_val_0_unsup_loss_numpy = 0.9958900213241577\n"
          ]
        },
        {
          "output_type": "stream",
          "name": "stderr",
          "text": [
            "/usr/local/lib/python3.10/dist-packages/pytorch_tabnet/callbacks.py:172: UserWarning: Best weights from best epoch are automatically used!\n",
            "  warnings.warn(wrn_msg)\n"
          ]
        }
      ]
    },
    {
      "cell_type": "markdown",
      "source": [
        "## 学習"
      ],
      "metadata": {
        "id": "2hG14GTa0lNp"
      }
    },
    {
      "cell_type": "code",
      "source": [
        "tabnet_params = {\n",
        "                 \"optimizer_fn\":torch.optim.Adam,\n",
        "                 \"optimizer_params\":dict(lr=2e-2),\n",
        "                 \"scheduler_fn\":torch.optim.lr_scheduler.ReduceLROnPlateau, #torch.optim.lr_scheduler.StepLR,\n",
        "                 \"mask_type\":'entmax',\n",
        "                 }\n",
        "\n",
        "model = TabNetRegressor(**tabnet_params\n",
        "                      )"
      ],
      "metadata": {
        "colab": {
          "base_uri": "https://localhost:8080/"
        },
        "id": "AngHxLYkysyj",
        "outputId": "b6500022-0ac1-45f0-a653-95c58743049d"
      },
      "execution_count": 11,
      "outputs": [
        {
          "output_type": "stream",
          "name": "stderr",
          "text": [
            "/usr/local/lib/python3.10/dist-packages/pytorch_tabnet/abstract_model.py:82: UserWarning: Device used : cpu\n",
            "  warnings.warn(f\"Device used : {self.device}\")\n"
          ]
        }
      ]
    },
    {
      "cell_type": "code",
      "source": [],
      "metadata": {
        "id": "QEHhodAd5--q"
      },
      "execution_count": 11,
      "outputs": []
    },
    {
      "cell_type": "code",
      "source": [
        "max_epochs = 100"
      ],
      "metadata": {
        "id": "ZQzUO5NGyxBQ"
      },
      "execution_count": 12,
      "outputs": []
    },
    {
      "cell_type": "code",
      "source": [
        "# from pytorch_tabnet.augmentations import ClassificationSMOTE\n",
        "# aug = ClassificationSMOTE(p=0.2)"
      ],
      "metadata": {
        "id": "VI2z7_d7zL6u"
      },
      "execution_count": 13,
      "outputs": []
    },
    {
      "cell_type": "code",
      "source": [
        "model.fit(\n",
        "    X_train=X_train, y_train=y_train,\n",
        "    eval_set=[(X_train, y_train), (X_valid, y_valid)],\n",
        "    eval_name=['train', 'valid'],\n",
        "    eval_metric=['rmse'],\n",
        "    max_epochs=max_epochs , patience=20,\n",
        "    batch_size=1024, virtual_batch_size=128,\n",
        "    num_workers=0,\n",
        "    drop_last=False,\n",
        "    augmentations=None,\n",
        "    from_unsupervised=unsupervised_model\n",
        ")"
      ],
      "metadata": {
        "colab": {
          "base_uri": "https://localhost:8080/"
        },
        "id": "pjHM1K0xy-ET",
        "outputId": "27917b23-9046-4b14-b088-902aca173af4"
      },
      "execution_count": 14,
      "outputs": [
        {
          "output_type": "stream",
          "name": "stderr",
          "text": [
            "/usr/local/lib/python3.10/dist-packages/pytorch_tabnet/abstract_model.py:248: UserWarning: Loading weights from unsupervised pretraining\n",
            "  warnings.warn(\"Loading weights from unsupervised pretraining\")\n"
          ]
        },
        {
          "output_type": "stream",
          "name": "stdout",
          "text": [
            "epoch 0  | loss: 12118.31671| train_rmse: 108.0536| valid_rmse: 107.13462|  0:00:01s\n",
            "epoch 1  | loss: 11397.49081| train_rmse: 100.827 | valid_rmse: 99.34794|  0:00:02s\n",
            "epoch 2  | loss: 10353.5606| train_rmse: 91.17215| valid_rmse: 88.90089|  0:00:04s\n",
            "epoch 3  | loss: 9017.42726| train_rmse: 82.59382| valid_rmse: 79.76903|  0:00:06s\n",
            "epoch 4  | loss: 7485.24704| train_rmse: 73.57201| valid_rmse: 70.02692|  0:00:06s\n",
            "epoch 5  | loss: 5967.73323| train_rmse: 64.5824 | valid_rmse: 61.69118|  0:00:07s\n",
            "epoch 6  | loss: 4564.27776| train_rmse: 55.92208| valid_rmse: 53.01321|  0:00:08s\n",
            "epoch 7  | loss: 3308.92521| train_rmse: 47.58256| valid_rmse: 46.507  |  0:00:08s\n",
            "epoch 8  | loss: 2348.92445| train_rmse: 36.84457| valid_rmse: 36.58099|  0:00:09s\n",
            "epoch 9  | loss: 1514.68068| train_rmse: 22.25636| valid_rmse: 22.66531|  0:00:09s\n",
            "epoch 10 | loss: 888.13512| train_rmse: 14.26035| valid_rmse: 14.9498 |  0:00:10s\n",
            "epoch 11 | loss: 443.38793| train_rmse: 11.07138| valid_rmse: 11.37399|  0:00:10s\n",
            "epoch 12 | loss: 247.61941| train_rmse: 14.51244| valid_rmse: 13.79124|  0:00:11s\n",
            "epoch 13 | loss: 195.41717| train_rmse: 15.3367 | valid_rmse: 15.09632|  0:00:11s\n",
            "epoch 14 | loss: 214.05006| train_rmse: 11.25478| valid_rmse: 10.87347|  0:00:12s\n",
            "epoch 15 | loss: 266.98904| train_rmse: 14.29685| valid_rmse: 14.66745|  0:00:13s\n",
            "epoch 16 | loss: 255.76907| train_rmse: 12.96763| valid_rmse: 13.14534|  0:00:13s\n",
            "epoch 17 | loss: 200.73072| train_rmse: 17.13318| valid_rmse: 17.64355|  0:00:14s\n",
            "epoch 18 | loss: 173.2789| train_rmse: 6.71158 | valid_rmse: 6.95437 |  0:00:14s\n",
            "epoch 19 | loss: 136.38366| train_rmse: 11.21069| valid_rmse: 10.76251|  0:00:15s\n",
            "epoch 20 | loss: 142.53543| train_rmse: 6.66349 | valid_rmse: 6.71803 |  0:00:16s\n",
            "epoch 21 | loss: 138.8021| train_rmse: 6.88967 | valid_rmse: 6.82226 |  0:00:17s\n",
            "epoch 22 | loss: 190.99447| train_rmse: 7.43284 | valid_rmse: 7.6474  |  0:00:18s\n",
            "epoch 23 | loss: 164.57433| train_rmse: 4.94242 | valid_rmse: 5.03511 |  0:00:18s\n",
            "epoch 24 | loss: 162.93548| train_rmse: 7.67639 | valid_rmse: 7.76536 |  0:00:19s\n",
            "epoch 25 | loss: 193.22806| train_rmse: 8.13155 | valid_rmse: 8.28924 |  0:00:19s\n",
            "epoch 26 | loss: 213.39853| train_rmse: 5.46953 | valid_rmse: 5.65929 |  0:00:20s\n",
            "epoch 27 | loss: 153.2007| train_rmse: 5.90504 | valid_rmse: 5.73206 |  0:00:20s\n",
            "epoch 28 | loss: 189.64846| train_rmse: 6.63053 | valid_rmse: 6.18593 |  0:00:21s\n",
            "epoch 29 | loss: 155.77299| train_rmse: 4.42663 | valid_rmse: 4.50277 |  0:00:22s\n",
            "epoch 30 | loss: 149.56042| train_rmse: 6.28651 | valid_rmse: 6.54795 |  0:00:22s\n",
            "epoch 31 | loss: 159.807 | train_rmse: 8.03511 | valid_rmse: 8.19507 |  0:00:23s\n",
            "epoch 32 | loss: 163.77894| train_rmse: 7.51142 | valid_rmse: 7.55236 |  0:00:23s\n",
            "epoch 33 | loss: 201.20706| train_rmse: 7.92109 | valid_rmse: 8.02793 |  0:00:24s\n",
            "epoch 34 | loss: 148.98376| train_rmse: 5.318   | valid_rmse: 5.40799 |  0:00:24s\n",
            "epoch 35 | loss: 156.02161| train_rmse: 6.20315 | valid_rmse: 6.12822 |  0:00:25s\n",
            "epoch 36 | loss: 181.76782| train_rmse: 4.08622 | valid_rmse: 3.96261 |  0:00:25s\n",
            "epoch 37 | loss: 179.22341| train_rmse: 4.85941 | valid_rmse: 4.62733 |  0:00:26s\n",
            "epoch 38 | loss: 176.60274| train_rmse: 6.35607 | valid_rmse: 6.07893 |  0:00:27s\n",
            "epoch 39 | loss: 193.23836| train_rmse: 5.54928 | valid_rmse: 5.88727 |  0:00:27s\n",
            "epoch 40 | loss: 195.6839| train_rmse: 4.40338 | valid_rmse: 4.45218 |  0:00:28s\n",
            "epoch 41 | loss: 131.21692| train_rmse: 4.84448 | valid_rmse: 5.09458 |  0:00:29s\n",
            "epoch 42 | loss: 162.19305| train_rmse: 3.51307 | valid_rmse: 3.60244 |  0:00:30s\n",
            "epoch 43 | loss: 133.98339| train_rmse: 5.09313 | valid_rmse: 5.30502 |  0:00:30s\n",
            "epoch 44 | loss: 134.35154| train_rmse: 5.09838 | valid_rmse: 5.23837 |  0:00:31s\n",
            "epoch 45 | loss: 170.42117| train_rmse: 5.24466 | valid_rmse: 5.62245 |  0:00:32s\n",
            "epoch 46 | loss: 184.45988| train_rmse: 4.08617 | valid_rmse: 4.22521 |  0:00:32s\n",
            "epoch 47 | loss: 151.78729| train_rmse: 2.92735 | valid_rmse: 3.12381 |  0:00:33s\n",
            "epoch 48 | loss: 136.58458| train_rmse: 5.02747 | valid_rmse: 5.07172 |  0:00:33s\n",
            "epoch 49 | loss: 175.53964| train_rmse: 5.81244 | valid_rmse: 6.01359 |  0:00:34s\n",
            "epoch 50 | loss: 179.53733| train_rmse: 6.95782 | valid_rmse: 6.92212 |  0:00:34s\n",
            "epoch 51 | loss: 175.98599| train_rmse: 5.83908 | valid_rmse: 5.9473  |  0:00:35s\n",
            "epoch 52 | loss: 163.23388| train_rmse: 5.02108 | valid_rmse: 4.96725 |  0:00:36s\n",
            "epoch 53 | loss: 161.2819| train_rmse: 3.02418 | valid_rmse: 3.14191 |  0:00:36s\n",
            "epoch 54 | loss: 171.82246| train_rmse: 3.92293 | valid_rmse: 4.03167 |  0:00:37s\n",
            "epoch 55 | loss: 150.60814| train_rmse: 7.13116 | valid_rmse: 7.52103 |  0:00:37s\n",
            "epoch 56 | loss: 180.13425| train_rmse: 4.63837 | valid_rmse: 4.62898 |  0:00:38s\n",
            "epoch 57 | loss: 187.97815| train_rmse: 7.72537 | valid_rmse: 7.82498 |  0:00:38s\n",
            "epoch 58 | loss: 171.72931| train_rmse: 7.57996 | valid_rmse: 7.95968 |  0:00:39s\n",
            "epoch 59 | loss: 140.5793| train_rmse: 4.18772 | valid_rmse: 4.34651 |  0:00:40s\n",
            "epoch 60 | loss: 127.38182| train_rmse: 2.66754 | valid_rmse: 2.72734 |  0:00:40s\n",
            "epoch 61 | loss: 126.22348| train_rmse: 2.49909 | valid_rmse: 2.77642 |  0:00:41s\n",
            "epoch 62 | loss: 164.05024| train_rmse: 2.63013 | valid_rmse: 2.99803 |  0:00:42s\n",
            "epoch 63 | loss: 137.89245| train_rmse: 2.7108  | valid_rmse: 3.09828 |  0:00:43s\n",
            "epoch 64 | loss: 145.37611| train_rmse: 3.10692 | valid_rmse: 3.39531 |  0:00:43s\n",
            "epoch 65 | loss: 124.66041| train_rmse: 2.63471 | valid_rmse: 2.93495 |  0:00:44s\n",
            "epoch 66 | loss: 163.63227| train_rmse: 2.56443 | valid_rmse: 2.912   |  0:00:44s\n",
            "epoch 67 | loss: 143.43057| train_rmse: 3.6862  | valid_rmse: 4.05969 |  0:00:45s\n",
            "epoch 68 | loss: 197.21929| train_rmse: 3.42053 | valid_rmse: 3.78371 |  0:00:46s\n",
            "epoch 69 | loss: 131.4494| train_rmse: 2.88324 | valid_rmse: 3.1622  |  0:00:46s\n",
            "epoch 70 | loss: 151.62643| train_rmse: 2.75481 | valid_rmse: 3.03359 |  0:00:47s\n",
            "epoch 71 | loss: 157.99607| train_rmse: 2.35889 | valid_rmse: 2.71164 |  0:00:47s\n",
            "epoch 72 | loss: 155.05592| train_rmse: 2.38048 | valid_rmse: 2.59736 |  0:00:48s\n",
            "epoch 73 | loss: 139.55469| train_rmse: 2.67992 | valid_rmse: 2.92431 |  0:00:48s\n",
            "epoch 74 | loss: 147.72354| train_rmse: 2.66528 | valid_rmse: 2.96019 |  0:00:49s\n",
            "epoch 75 | loss: 123.21075| train_rmse: 2.87808 | valid_rmse: 3.18777 |  0:00:50s\n",
            "epoch 76 | loss: 133.80781| train_rmse: 2.70456 | valid_rmse: 3.03414 |  0:00:50s\n",
            "epoch 77 | loss: 172.60758| train_rmse: 2.78068 | valid_rmse: 3.0628  |  0:00:51s\n",
            "epoch 78 | loss: 126.76098| train_rmse: 2.42902 | valid_rmse: 2.73487 |  0:00:51s\n",
            "epoch 79 | loss: 122.09829| train_rmse: 2.74801 | valid_rmse: 3.05799 |  0:00:52s\n",
            "epoch 80 | loss: 159.01787| train_rmse: 2.58752 | valid_rmse: 2.95783 |  0:00:52s\n",
            "epoch 81 | loss: 107.11471| train_rmse: 2.72587 | valid_rmse: 3.113   |  0:00:53s\n",
            "epoch 82 | loss: 155.88437| train_rmse: 2.67724 | valid_rmse: 3.00137 |  0:00:54s\n",
            "epoch 83 | loss: 130.77314| train_rmse: 3.03832 | valid_rmse: 3.32662 |  0:00:55s\n",
            "epoch 84 | loss: 155.32481| train_rmse: 2.74718 | valid_rmse: 3.03433 |  0:00:55s\n",
            "epoch 85 | loss: 165.78365| train_rmse: 2.52823 | valid_rmse: 2.83097 |  0:00:56s\n",
            "epoch 86 | loss: 124.96824| train_rmse: 2.51006 | valid_rmse: 2.82023 |  0:00:57s\n",
            "epoch 87 | loss: 113.71628| train_rmse: 2.67686 | valid_rmse: 3.03707 |  0:00:57s\n",
            "epoch 88 | loss: 124.91621| train_rmse: 2.62476 | valid_rmse: 2.98658 |  0:00:58s\n",
            "epoch 89 | loss: 146.0846| train_rmse: 2.4285  | valid_rmse: 2.78252 |  0:00:58s\n",
            "epoch 90 | loss: 156.03884| train_rmse: 2.54408 | valid_rmse: 2.91641 |  0:00:59s\n",
            "epoch 91 | loss: 149.25685| train_rmse: 2.55732 | valid_rmse: 2.92272 |  0:00:59s\n",
            "epoch 92 | loss: 135.19728| train_rmse: 2.56716 | valid_rmse: 2.92676 |  0:01:00s\n",
            "\n",
            "Early stopping occurred at epoch 92 with best_epoch = 72 and best_valid_rmse = 2.59736\n"
          ]
        },
        {
          "output_type": "stream",
          "name": "stderr",
          "text": [
            "/usr/local/lib/python3.10/dist-packages/pytorch_tabnet/callbacks.py:172: UserWarning: Best weights from best epoch are automatically used!\n",
            "  warnings.warn(wrn_msg)\n"
          ]
        }
      ]
    },
    {
      "cell_type": "code",
      "source": [
        "import matplotlib.pyplot as plt\n",
        "\n",
        "for param in ['loss', 'lr', 'valid_rmse']:\n",
        "    plt.plot(model.history[param], label=param)\n",
        "    plt.xlabel('epoch')\n",
        "    plt.grid()\n",
        "    plt.legend()\n",
        "    plt.show()"
      ],
      "metadata": {
        "id": "bSzDS2Z5zH2E",
        "colab": {
          "base_uri": "https://localhost:8080/",
          "height": 1000
        },
        "outputId": "68e38533-1354-4850-d973-32bab629c385"
      },
      "execution_count": 15,
      "outputs": [
        {
          "output_type": "display_data",
          "data": {
            "text/plain": [
              "<Figure size 640x480 with 1 Axes>"
            ],
            "image/png": "[encoded data removed]"
          },
          "metadata": {}
        },
        {
          "output_type": "display_data",
          "data": {
            "text/plain": [
              "<Figure size 640x480 with 1 Axes>"
            ],
            "image/png": "[encoded data removed]"
          },
          "metadata": {}
        },
        {
          "output_type": "display_data",
          "data": {
            "text/plain": [
              "<Figure size 640x480 with 1 Axes>"
            ],
            "image/png": "[encoded data removed]"
          },
          "metadata": {}
        }
      ]
    },
    {
      "cell_type": "markdown",
      "source": [
        "## 予測"
      ],
      "metadata": {
        "id": "WJ8TKvMk0tMH"
      }
    },
    {
      "cell_type": "code",
      "source": [
        "preds = model.predict(X_test)\n",
        "test_mse = mean_squared_error(preds, y_test)\n",
        "\n",
        "\n",
        "preds_valid = model.predict(X_valid)\n",
        "valid_mse = mean_squared_error(preds_valid, y_valid)\n",
        "\n",
        "print(\"valid_mse = \", valid_mse)\n",
        "print(\"test_mse = \", test_mse)"
      ],
      "metadata": {
        "colab": {
          "base_uri": "https://localhost:8080/"
        },
        "id": "E8Akp_RWzUMg",
        "outputId": "0530ab12-0ec5-4aa4-e3c2-e4935e0eb2d4"
      },
      "execution_count": 16,
      "outputs": [
        {
          "output_type": "stream",
          "name": "stdout",
          "text": [
            "valid_mse =  6.746282744729993\n",
            "test_mse =  5.320123732256637\n"
          ]
        }
      ]
    },
    {
      "cell_type": "code",
      "source": [
        "importance = sorted([(i, n) for i, n in enumerate(model.feature_importances_)], key = lambda x: x[1], reverse = True)\n",
        "label, y = [], []\n",
        "for e in importance:\n",
        "  print(f\"feature {e[0]} : {e[1]}\")\n",
        "  label.append(e[0])\n",
        "  y.append(e[1])\n",
        "\n",
        "plt.bar([i for i in range(len(y))], y, tick_label = label)\n",
        "plt.show()"
      ],
      "metadata": {
        "colab": {
          "base_uri": "https://localhost:8080/",
          "height": 609
        },
        "id": "Q4gguBLB1R20",
        "outputId": "828404fc-51a9-40a6-bdc5-4fe5e303e022"
      },
      "execution_count": 17,
      "outputs": [
        {
          "output_type": "stream",
          "name": "stdout",
          "text": [
            "feature 9 : 0.27575028967520165\n",
            "feature 7 : 0.22997472336163366\n",
            "feature 3 : 0.18500877190112627\n",
            "feature 1 : 0.08352469983538302\n",
            "feature 6 : 0.07164931330419394\n",
            "feature 0 : 0.06011197364371322\n",
            "feature 8 : 0.037104410271083\n",
            "feature 4 : 0.03442517191734589\n",
            "feature 5 : 0.014042432553776525\n",
            "feature 2 : 0.008408213536542784\n"
          ]
        },
        {
          "output_type": "display_data",
          "data": {
            "text/plain": [
              "<Figure size 640x480 with 1 Axes>"
            ],
            "image/png": "[encoded data removed]"
          },
          "metadata": {}
        }
      ]
    },
    {
      "cell_type": "markdown",
      "source": [
        "## LightGBMを使って予測"
      ],
      "metadata": {
        "id": "Lqs23c9E0KXZ"
      }
    },
    {
      "cell_type": "markdown",
      "source": [
        "## 学習"
      ],
      "metadata": {
        "id": "zG--1eTm0vO2"
      }
    },
    {
      "cell_type": "code",
      "source": [
        "from lightgbm import LGBMRegressor\n",
        "\n",
        "lgb_params = {\n",
        "  'n_estimators': 10000,\n",
        "  'learning_rate': 0.01,\n",
        "  'random_state': 42,\n",
        "  'early_stopping_round': 100,\n",
        "  'metric': 'rmse'\n",
        "}\n",
        "\n",
        "lgb = LGBMRegressor(**lgb_params)\n",
        "lgb.fit(X_train, y_train, eval_set=[(X_valid, y_valid)])"
      ],
      "metadata": {
        "colab": {
          "base_uri": "https://localhost:8080/",
          "height": 326
        },
        "id": "kngZ9zF3zaJL",
        "outputId": "d81a8e43-7b0a-4469-b647-666945937134"
      },
      "execution_count": 18,
      "outputs": [
        {
          "output_type": "stream",
          "name": "stderr",
          "text": [
            "/usr/local/lib/python3.10/dist-packages/sklearn/utils/validation.py:1143: DataConversionWarning: A column-vector y was passed when a 1d array was expected. Please change the shape of y to (n_samples, ), for example using ravel().\n",
            "  y = column_or_1d(y, warn=True)\n",
            "/usr/local/lib/python3.10/dist-packages/lightgbm/basic.py:300: UserWarning: Converting column-vector to 1d array\n",
            "  _log_warning('Converting column-vector to 1d array')\n"
          ]
        },
        {
          "output_type": "stream",
          "name": "stdout",
          "text": [
            "[LightGBM] [Info] Auto-choosing col-wise multi-threading, the overhead of testing was 0.000813 seconds.\n",
            "You can set `force_col_wise=true` to remove the overhead.\n",
            "[LightGBM] [Info] Total Bins 2550\n",
            "[LightGBM] [Info] Number of data points in the train set: 7000, number of used features: 10\n",
            "[LightGBM] [Info] Start training from score -0.824490\n",
            "Training until validation scores don't improve for 100 rounds\n",
            "Early stopping, best iteration is:\n",
            "[7470]\tvalid_0's rmse: 6.97991\n"
          ]
        },
        {
          "output_type": "execute_result",
          "data": {
            "text/plain": [
              "LGBMRegressor(early_stopping_round=100, learning_rate=0.01, metric='rmse',\n",
              "              n_estimators=10000, random_state=42)"
            ],
            "text/html": [
              "<style>#sk-container-id-1 {color: black;background-color: white;}#sk-container-id-1 pre{padding: 0;}#sk-container-id-1 div.sk-toggleable {background-color: white;}#sk-container-id-1 label.sk-toggleable__label {cursor: pointer;display: block;width: 100%;margin-bottom: 0;padding: 0.3em;box-sizing: border-box;text-align: center;}#sk-container-id-1 label.sk-toggleable__label-arrow:before {content: \"▸\";float: left;margin-right: 0.25em;color: #696969;}#sk-container-id-1 label.sk-toggleable__label-arrow:hover:before {color: black;}#sk-container-id-1 div.sk-estimator:hover label.sk-toggleable__label-arrow:before {color: black;}#sk-container-id-1 div.sk-toggleable__content {max-height: 0;max-width: 0;overflow: hidden;text-align: left;background-color: #f0f8ff;}#sk-container-id-1 div.sk-toggleable__content pre {margin: 0.2em;color: black;border-radius: 0.25em;background-color: #f0f8ff;}#sk-container-id-1 input.sk-toggleable__control:checked~div.sk-toggleable__content {max-height: 200px;max-width: 100%;overflow: auto;}#sk-container-id-1 input.sk-toggleable__control:checked~label.sk-toggleable__label-arrow:before {content: \"▾\";}#sk-container-id-1 div.sk-estimator input.sk-toggleable__control:checked~label.sk-toggleable__label {background-color: #d4ebff;}#sk-container-id-1 div.sk-label input.sk-toggleable__control:checked~label.sk-toggleable__label {background-color: #d4ebff;}#sk-container-id-1 input.sk-hidden--visually {border: 0;clip: rect(1px 1px 1px 1px);clip: rect(1px, 1px, 1px, 1px);height: 1px;margin: -1px;overflow: hidden;padding: 0;position: absolute;width: 1px;}#sk-container-id-1 div.sk-estimator {font-family: monospace;background-color: #f0f8ff;border: 1px dotted black;border-radius: 0.25em;box-sizing: border-box;margin-bottom: 0.5em;}#sk-container-id-1 div.sk-estimator:hover {background-color: #d4ebff;}#sk-container-id-1 div.sk-parallel-item::after {content: \"\";width: 100%;border-bottom: 1px solid gray;flex-grow: 1;}#sk-container-id-1 div.sk-label:hover label.sk-toggleable__label {background-color: #d4ebff;}#sk-container-id-1 div.sk-serial::before {content: \"\";position: absolute;border-left: 1px solid gray;box-sizing: border-box;top: 0;bottom: 0;left: 50%;z-index: 0;}#sk-container-id-1 div.sk-serial {display: flex;flex-direction: column;align-items: center;background-color: white;padding-right: 0.2em;padding-left: 0.2em;position: relative;}#sk-container-id-1 div.sk-item {position: relative;z-index: 1;}#sk-container-id-1 div.sk-parallel {display: flex;align-items: stretch;justify-content: center;background-color: white;position: relative;}#sk-container-id-1 div.sk-item::before, #sk-container-id-1 div.sk-parallel-item::before {content: \"\";position: absolute;border-left: 1px solid gray;box-sizing: border-box;top: 0;bottom: 0;left: 50%;z-index: -1;}#sk-container-id-1 div.sk-parallel-item {display: flex;flex-direction: column;z-index: 1;position: relative;background-color: white;}#sk-container-id-1 div.sk-parallel-item:first-child::after {align-self: flex-end;width: 50%;}#sk-container-id-1 div.sk-parallel-item:last-child::after {align-self: flex-start;width: 50%;}#sk-container-id-1 div.sk-parallel-item:only-child::after {width: 0;}#sk-container-id-1 div.sk-dashed-wrapped {border: 1px dashed gray;margin: 0 0.4em 0.5em 0.4em;box-sizing: border-box;padding-bottom: 0.4em;background-color: white;}#sk-container-id-1 div.sk-label label {font-family: monospace;font-weight: bold;display: inline-block;line-height: 1.2em;}#sk-container-id-1 div.sk-label-container {text-align: center;}#sk-container-id-1 div.sk-container {/* jupyter's `normalize.less` sets `[hidden] { display: none; }` but bootstrap.min.css set `[hidden] { display: none !important; }` so we also need the `!important` here to be able to override the default hidden behavior on the sphinx rendered scikit-learn.org. See: https://github.com/scikit-learn/scikit-learn/issues/21755 */display: inline-block !important;position: relative;}#sk-container-id-1 div.sk-text-repr-fallback {display: none;}</style><div id=\"sk-container-id-1\" class=\"sk-top-container\"><div class=\"sk-text-repr-fallback\"><pre>LGBMRegressor(early_stopping_round=100, learning_rate=0.01, metric=&#x27;rmse&#x27;,\n",
              "              n_estimators=10000, random_state=42)</pre><b>In a Jupyter environment, please rerun this cell to show the HTML representation or trust the notebook. <br />On GitHub, the HTML representation is unable to render, please try loading this page with nbviewer.org.</b></div><div class=\"sk-container\" hidden><div class=\"sk-item\"><div class=\"sk-estimator sk-toggleable\"><input class=\"sk-toggleable__control sk-hidden--visually\" id=\"sk-estimator-id-1\" type=\"checkbox\" checked><label for=\"sk-estimator-id-1\" class=\"sk-toggleable__label sk-toggleable__label-arrow\">LGBMRegressor</label><div class=\"sk-toggleable__content\"><pre>LGBMRegressor(early_stopping_round=100, learning_rate=0.01, metric=&#x27;rmse&#x27;,\n",
              "              n_estimators=10000, random_state=42)</pre></div></div></div></div></div>"
            ]
          },
          "metadata": {},
          "execution_count": 18
        }
      ]
    },
    {
      "cell_type": "markdown",
      "source": [
        "## 予測"
      ],
      "metadata": {
        "id": "rkKCzWE50yq6"
      }
    },
    {
      "cell_type": "code",
      "source": [
        "preds = lgb.predict(X_test)\n",
        "test_mse = mean_squared_error(preds, y_test)\n",
        "\n",
        "\n",
        "preds_valid = lgb.predict(X_valid)\n",
        "valid_mse = mean_squared_error(preds_valid, y_valid)\n",
        "\n",
        "print(\"valid_auc = \", valid_mse)\n",
        "print(\"test_auc = \", test_mse)"
      ],
      "metadata": {
        "colab": {
          "base_uri": "https://localhost:8080/"
        },
        "id": "cA50WlnCz-ZA",
        "outputId": "20f31192-14a7-40e8-f4ca-ba10ef7852c2"
      },
      "execution_count": 19,
      "outputs": [
        {
          "output_type": "stream",
          "name": "stdout",
          "text": [
            "valid_auc =  48.71907754640076\n",
            "test_auc =  48.513214953676204\n"
          ]
        }
      ]
    },
    {
      "cell_type": "code",
      "source": [
        "importance = sorted([(i, n) for i, n in enumerate(lgb.feature_importances_)], key = lambda x: x[1], reverse = True)\n",
        "label, y = [], []\n",
        "for e in importance:\n",
        "  print(f\"feature {e[0]} : {e[1]}\")\n",
        "  label.append(e[0])\n",
        "  y.append(e[1])\n",
        "\n",
        "plt.bar([i for i in range(len(y))], y, tick_label = label)\n",
        "plt.show()"
      ],
      "metadata": {
        "colab": {
          "base_uri": "https://localhost:8080/",
          "height": 609
        },
        "id": "q0RDwgiX0HyL",
        "outputId": "ac40d636-cb17-439f-93e3-efd60e5efb3f"
      },
      "execution_count": 20,
      "outputs": [
        {
          "output_type": "stream",
          "name": "stdout",
          "text": [
            "feature 3 : 40635\n",
            "feature 9 : 37997\n",
            "feature 7 : 25617\n",
            "feature 1 : 21028\n",
            "feature 5 : 18205\n",
            "feature 6 : 16682\n",
            "feature 8 : 16479\n",
            "feature 0 : 16031\n",
            "feature 4 : 15829\n",
            "feature 2 : 15597\n"
          ]
        },
        {
          "output_type": "display_data",
          "data": {
            "text/plain": [
              "<Figure size 640x480 with 1 Axes>"
            ],
            "image/png": "[encoded data removed]"
          },
          "metadata": {}
        }
      ]
    },
    {
      "cell_type": "code",
      "source": [],
      "metadata": {
        "id": "XHQ6UvoQDdC5"
      },
      "execution_count": 20,
      "outputs": []
    }
  ]
}