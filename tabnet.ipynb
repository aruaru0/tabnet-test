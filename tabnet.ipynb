{
  "nbformat": 4,
  "nbformat_minor": 0,
  "metadata": {
    "colab": {
      "provenance": [],
      "authorship_tag": "ABX9TyMBm82WerMGZ94fP7eapGHf",
      "include_colab_link": true
    },
    "kernelspec": {
      "name": "python3",
      "display_name": "Python 3"
    },
    "language_info": {
      "name": "python"
    }
  },
  "cells": [
    {
      "cell_type": "markdown",
      "metadata": {
        "id": "view-in-github",
        "colab_type": "text"
      },
      "source": [
        "<a href=\"https://colab.research.google.com/github/aruaru0/tabnet-test/blob/main/tabnet.ipynb\" target=\"_parent\"><img src=\"https://colab.research.google.com/assets/colab-badge.svg\" alt=\"Open In Colab\"/></a>"
      ]
    },
    {
      "cell_type": "markdown",
      "source": [
        "# インストール"
      ],
      "metadata": {
        "id": "juRLJ1GM099l"
      }
    },
    {
      "cell_type": "code",
      "execution_count": 1,
      "metadata": {
        "colab": {
          "base_uri": "https://localhost:8080/"
        },
        "id": "6Z3f0V6-xMmQ",
        "outputId": "ffa537a8-e323-4315-818f-5053f0098037"
      },
      "outputs": [
        {
          "output_type": "stream",
          "name": "stdout",
          "text": [
            "Requirement already satisfied: pytorch-tabnet in /usr/local/lib/python3.10/dist-packages (4.1.0)\n",
            "Requirement already satisfied: numpy>=1.17 in /usr/local/lib/python3.10/dist-packages (from pytorch-tabnet) (1.23.5)\n",
            "Requirement already satisfied: scikit_learn>0.21 in /usr/local/lib/python3.10/dist-packages (from pytorch-tabnet) (1.2.2)\n",
            "Requirement already satisfied: scipy>1.4 in /usr/local/lib/python3.10/dist-packages (from pytorch-tabnet) (1.11.4)\n",
            "Requirement already satisfied: torch>=1.3 in /usr/local/lib/python3.10/dist-packages (from pytorch-tabnet) (2.1.0+cu121)\n",
            "Requirement already satisfied: tqdm>=4.36 in /usr/local/lib/python3.10/dist-packages (from pytorch-tabnet) (4.66.1)\n",
            "Requirement already satisfied: joblib>=1.1.1 in /usr/local/lib/python3.10/dist-packages (from scikit_learn>0.21->pytorch-tabnet) (1.3.2)\n",
            "Requirement already satisfied: threadpoolctl>=2.0.0 in /usr/local/lib/python3.10/dist-packages (from scikit_learn>0.21->pytorch-tabnet) (3.2.0)\n",
            "Requirement already satisfied: filelock in /usr/local/lib/python3.10/dist-packages (from torch>=1.3->pytorch-tabnet) (3.13.1)\n",
            "Requirement already satisfied: typing-extensions in /usr/local/lib/python3.10/dist-packages (from torch>=1.3->pytorch-tabnet) (4.5.0)\n",
            "Requirement already satisfied: sympy in /usr/local/lib/python3.10/dist-packages (from torch>=1.3->pytorch-tabnet) (1.12)\n",
            "Requirement already satisfied: networkx in /usr/local/lib/python3.10/dist-packages (from torch>=1.3->pytorch-tabnet) (3.2.1)\n",
            "Requirement already satisfied: jinja2 in /usr/local/lib/python3.10/dist-packages (from torch>=1.3->pytorch-tabnet) (3.1.3)\n",
            "Requirement already satisfied: fsspec in /usr/local/lib/python3.10/dist-packages (from torch>=1.3->pytorch-tabnet) (2023.6.0)\n",
            "Requirement already satisfied: triton==2.1.0 in /usr/local/lib/python3.10/dist-packages (from torch>=1.3->pytorch-tabnet) (2.1.0)\n",
            "Requirement already satisfied: MarkupSafe>=2.0 in /usr/local/lib/python3.10/dist-packages (from jinja2->torch>=1.3->pytorch-tabnet) (2.1.4)\n",
            "Requirement already satisfied: mpmath>=0.19 in /usr/local/lib/python3.10/dist-packages (from sympy->torch>=1.3->pytorch-tabnet) (1.3.0)\n"
          ]
        }
      ],
      "source": [
        "!pip install pytorch-tabnet"
      ]
    },
    {
      "cell_type": "markdown",
      "source": [
        "# ライブラリのインポート"
      ],
      "metadata": {
        "id": "CilmnMtX1AZj"
      }
    },
    {
      "cell_type": "code",
      "source": [
        "import numpy as np\n",
        "import pandas as pd\n",
        "\n",
        "import matplotlib.pyplot as plt\n",
        "from sklearn.datasets import make_classification\n",
        "from sklearn.model_selection import train_test_split\n",
        "from sklearn.metrics import roc_auc_score\n",
        "\n",
        "from pytorch_tabnet.tab_model import TabNetClassifier\n",
        "from pytorch_tabnet.pretraining import TabNetPretrainer\n",
        "\n",
        "import torch"
      ],
      "metadata": {
        "id": "5S7VTgYKxsPX"
      },
      "execution_count": 2,
      "outputs": []
    },
    {
      "cell_type": "markdown",
      "source": [
        "## データの作成"
      ],
      "metadata": {
        "id": "q6XUmadK1C11"
      }
    },
    {
      "cell_type": "code",
      "source": [
        "X, y = make_classification(n_samples=10000,\n",
        "                           n_features=10,\n",
        "                           n_redundant = 3,\n",
        "                           n_informative = 5,\n",
        "                           n_classes=2,\n",
        "                           random_state=42)"
      ],
      "metadata": {
        "id": "bYmxJ9LpxRKk"
      },
      "execution_count": 3,
      "outputs": []
    },
    {
      "cell_type": "code",
      "source": [
        "df = pd.DataFrame(X)\n",
        "df['target'] = y\n",
        "df.head(20)"
      ],
      "metadata": {
        "colab": {
          "base_uri": "https://localhost:8080/",
          "height": 677
        },
        "id": "YlbVM5LX141_",
        "outputId": "3ffe30a8-e997-49fa-8927-6ac3e0542024"
      },
      "execution_count": 4,
      "outputs": [
        {
          "output_type": "execute_result",
          "data": {
            "text/plain": [
              "           0         1         2         3         4         5         6  \\\n",
              "0   0.261758  0.392731 -0.808093 -1.848465  1.222284  1.803318  2.896824   \n",
              "1  -0.114392 -0.748236 -0.634377 -0.288498  1.023028  0.367244  0.051039   \n",
              "2   0.312028 -1.492304 -0.711194  0.173962  1.066032  0.183943 -0.046342   \n",
              "3   0.487602 -0.897590 -0.970713 -1.513267  2.705609  2.617096  2.539888   \n",
              "4   0.901587 -0.144531  1.226887  0.285266  3.836804  3.400022 -0.721368   \n",
              "5  -1.512935  0.839964 -2.394045 -3.220995  0.166090  0.238969  3.056046   \n",
              "6   2.482120 -0.753017 -1.266062  0.515353  2.765119 -0.500146 -1.782607   \n",
              "7  -2.288275 -1.994036 -1.838359 -0.860530  0.123930 -0.651246  0.128080   \n",
              "8   0.343655 -0.929279  0.120875  1.019661  0.090647 -0.577260 -1.235540   \n",
              "9   1.747647  1.073376  2.324566  1.597653  1.902705  1.679127 -2.231188   \n",
              "10 -0.241782  0.472553  0.824130  1.052222 -0.683404 -0.956115 -2.101434   \n",
              "11  1.178550  0.637653  0.677428  0.626807  0.793914  0.273878 -1.034278   \n",
              "12  1.040488  1.064623 -0.510586 -0.184280 -1.380595 -1.606008  0.407443   \n",
              "13  0.727044  0.945739  1.110466  0.733568  1.165849  0.632403 -1.784831   \n",
              "14  0.035663  1.754785 -0.000874 -0.043296  0.514033 -0.922058 -2.335279   \n",
              "15  0.140415  0.476550 -2.093543 -1.052213 -1.922572 -2.793633  0.908698   \n",
              "16 -0.311443  0.906557 -1.273276 -2.400870  2.935482  2.146607  1.471082   \n",
              "17  1.648385  2.456168  0.695926  0.035747  0.905919  0.080702 -1.256040   \n",
              "18 -0.127168  2.254707  0.467355 -1.383135  0.735353  1.515613  1.043420   \n",
              "19  1.228359  3.375560 -0.829454 -1.453112 -1.081948 -1.635979  0.598493   \n",
              "\n",
              "           7         8         9  target  \n",
              "0  -0.346674 -1.214386 -2.812468       0  \n",
              "1   1.270733  0.622655 -0.256778       0  \n",
              "2  -1.260676 -0.278665 -0.392808       0  \n",
              "3   0.348632  0.029463 -3.403255       0  \n",
              "4   1.370580 -0.094590 -2.163323       1  \n",
              "5  -0.654477 -0.908181 -0.925463       0  \n",
              "6  -0.286599  1.539449  0.554886       0  \n",
              "7   0.261330  1.306397  1.081350       0  \n",
              "8   2.338216 -0.026320  0.787484       0  \n",
              "9   0.273718 -1.536220 -0.421791       1  \n",
              "10  1.120874 -0.929886  1.968974       1  \n",
              "11  1.585863  1.066611  0.065491       0  \n",
              "12  0.151098 -0.257108  0.617975       1  \n",
              "13 -0.242143  0.309196  0.494858       1  \n",
              "14  0.380048  1.241189  2.410391       1  \n",
              "15 -0.109457 -1.863486  1.504277       1  \n",
              "16 -0.352264 -0.524620 -1.692719       0  \n",
              "17 -1.636983  2.390878  0.527681       1  \n",
              "18  0.384626  0.095094 -1.129615       1  \n",
              "19 -0.375364 -0.215743  0.989669       0  "
            ],
            "text/html": [
              "\n",
              "  <div id=\"df-ceb12d8d-3632-4782-950b-b59df5adbc98\" class=\"colab-df-container\">\n",
              "    <div>\n",
              "<style scoped>\n",
              "    .dataframe tbody tr th:only-of-type {\n",
              "        vertical-align: middle;\n",
              "    }\n",
              "\n",
              "    .dataframe tbody tr th {\n",
              "        vertical-align: top;\n",
              "    }\n",
              "\n",
              "    .dataframe thead th {\n",
              "        text-align: right;\n",
              "    }\n",
              "</style>\n",
              "<table border=\"1\" class=\"dataframe\">\n",
              "  <thead>\n",
              "    <tr style=\"text-align: right;\">\n",
              "      <th></th>\n",
              "      <th>0</th>\n",
              "      <th>1</th>\n",
              "      <th>2</th>\n",
              "      <th>3</th>\n",
              "      <th>4</th>\n",
              "      <th>5</th>\n",
              "      <th>6</th>\n",
              "      <th>7</th>\n",
              "      <th>8</th>\n",
              "      <th>9</th>\n",
              "      <th>target</th>\n",
              "    </tr>\n",
              "  </thead>\n",
              "  <tbody>\n",
              "    <tr>\n",
              "      <th>0</th>\n",
              "      <td>0.261758</td>\n",
              "      <td>0.392731</td>\n",
              "      <td>-0.808093</td>\n",
              "      <td>-1.848465</td>\n",
              "      <td>1.222284</td>\n",
              "      <td>1.803318</td>\n",
              "      <td>2.896824</td>\n",
              "      <td>-0.346674</td>\n",
              "      <td>-1.214386</td>\n",
              "      <td>-2.812468</td>\n",
              "      <td>0</td>\n",
              "    </tr>\n",
              "    <tr>\n",
              "      <th>1</th>\n",
              "      <td>-0.114392</td>\n",
              "      <td>-0.748236</td>\n",
              "      <td>-0.634377</td>\n",
              "      <td>-0.288498</td>\n",
              "      <td>1.023028</td>\n",
              "      <td>0.367244</td>\n",
              "      <td>0.051039</td>\n",
              "      <td>1.270733</td>\n",
              "      <td>0.622655</td>\n",
              "      <td>-0.256778</td>\n",
              "      <td>0</td>\n",
              "    </tr>\n",
              "    <tr>\n",
              "      <th>2</th>\n",
              "      <td>0.312028</td>\n",
              "      <td>-1.492304</td>\n",
              "      <td>-0.711194</td>\n",
              "      <td>0.173962</td>\n",
              "      <td>1.066032</td>\n",
              "      <td>0.183943</td>\n",
              "      <td>-0.046342</td>\n",
              "      <td>-1.260676</td>\n",
              "      <td>-0.278665</td>\n",
              "      <td>-0.392808</td>\n",
              "      <td>0</td>\n",
              "    </tr>\n",
              "    <tr>\n",
              "      <th>3</th>\n",
              "      <td>0.487602</td>\n",
              "      <td>-0.897590</td>\n",
              "      <td>-0.970713</td>\n",
              "      <td>-1.513267</td>\n",
              "      <td>2.705609</td>\n",
              "      <td>2.617096</td>\n",
              "      <td>2.539888</td>\n",
              "      <td>0.348632</td>\n",
              "      <td>0.029463</td>\n",
              "      <td>-3.403255</td>\n",
              "      <td>0</td>\n",
              "    </tr>\n",
              "    <tr>\n",
              "      <th>4</th>\n",
              "      <td>0.901587</td>\n",
              "      <td>-0.144531</td>\n",
              "      <td>1.226887</td>\n",
              "      <td>0.285266</td>\n",
              "      <td>3.836804</td>\n",
              "      <td>3.400022</td>\n",
              "      <td>-0.721368</td>\n",
              "      <td>1.370580</td>\n",
              "      <td>-0.094590</td>\n",
              "      <td>-2.163323</td>\n",
              "      <td>1</td>\n",
              "    </tr>\n",
              "    <tr>\n",
              "      <th>5</th>\n",
              "      <td>-1.512935</td>\n",
              "      <td>0.839964</td>\n",
              "      <td>-2.394045</td>\n",
              "      <td>-3.220995</td>\n",
              "      <td>0.166090</td>\n",
              "      <td>0.238969</td>\n",
              "      <td>3.056046</td>\n",
              "      <td>-0.654477</td>\n",
              "      <td>-0.908181</td>\n",
              "      <td>-0.925463</td>\n",
              "      <td>0</td>\n",
              "    </tr>\n",
              "    <tr>\n",
              "      <th>6</th>\n",
              "      <td>2.482120</td>\n",
              "      <td>-0.753017</td>\n",
              "      <td>-1.266062</td>\n",
              "      <td>0.515353</td>\n",
              "      <td>2.765119</td>\n",
              "      <td>-0.500146</td>\n",
              "      <td>-1.782607</td>\n",
              "      <td>-0.286599</td>\n",
              "      <td>1.539449</td>\n",
              "      <td>0.554886</td>\n",
              "      <td>0</td>\n",
              "    </tr>\n",
              "    <tr>\n",
              "      <th>7</th>\n",
              "      <td>-2.288275</td>\n",
              "      <td>-1.994036</td>\n",
              "      <td>-1.838359</td>\n",
              "      <td>-0.860530</td>\n",
              "      <td>0.123930</td>\n",
              "      <td>-0.651246</td>\n",
              "      <td>0.128080</td>\n",
              "      <td>0.261330</td>\n",
              "      <td>1.306397</td>\n",
              "      <td>1.081350</td>\n",
              "      <td>0</td>\n",
              "    </tr>\n",
              "    <tr>\n",
              "      <th>8</th>\n",
              "      <td>0.343655</td>\n",
              "      <td>-0.929279</td>\n",
              "      <td>0.120875</td>\n",
              "      <td>1.019661</td>\n",
              "      <td>0.090647</td>\n",
              "      <td>-0.577260</td>\n",
              "      <td>-1.235540</td>\n",
              "      <td>2.338216</td>\n",
              "      <td>-0.026320</td>\n",
              "      <td>0.787484</td>\n",
              "      <td>0</td>\n",
              "    </tr>\n",
              "    <tr>\n",
              "      <th>9</th>\n",
              "      <td>1.747647</td>\n",
              "      <td>1.073376</td>\n",
              "      <td>2.324566</td>\n",
              "      <td>1.597653</td>\n",
              "      <td>1.902705</td>\n",
              "      <td>1.679127</td>\n",
              "      <td>-2.231188</td>\n",
              "      <td>0.273718</td>\n",
              "      <td>-1.536220</td>\n",
              "      <td>-0.421791</td>\n",
              "      <td>1</td>\n",
              "    </tr>\n",
              "    <tr>\n",
              "      <th>10</th>\n",
              "      <td>-0.241782</td>\n",
              "      <td>0.472553</td>\n",
              "      <td>0.824130</td>\n",
              "      <td>1.052222</td>\n",
              "      <td>-0.683404</td>\n",
              "      <td>-0.956115</td>\n",
              "      <td>-2.101434</td>\n",
              "      <td>1.120874</td>\n",
              "      <td>-0.929886</td>\n",
              "      <td>1.968974</td>\n",
              "      <td>1</td>\n",
              "    </tr>\n",
              "    <tr>\n",
              "      <th>11</th>\n",
              "      <td>1.178550</td>\n",
              "      <td>0.637653</td>\n",
              "      <td>0.677428</td>\n",
              "      <td>0.626807</td>\n",
              "      <td>0.793914</td>\n",
              "      <td>0.273878</td>\n",
              "      <td>-1.034278</td>\n",
              "      <td>1.585863</td>\n",
              "      <td>1.066611</td>\n",
              "      <td>0.065491</td>\n",
              "      <td>0</td>\n",
              "    </tr>\n",
              "    <tr>\n",
              "      <th>12</th>\n",
              "      <td>1.040488</td>\n",
              "      <td>1.064623</td>\n",
              "      <td>-0.510586</td>\n",
              "      <td>-0.184280</td>\n",
              "      <td>-1.380595</td>\n",
              "      <td>-1.606008</td>\n",
              "      <td>0.407443</td>\n",
              "      <td>0.151098</td>\n",
              "      <td>-0.257108</td>\n",
              "      <td>0.617975</td>\n",
              "      <td>1</td>\n",
              "    </tr>\n",
              "    <tr>\n",
              "      <th>13</th>\n",
              "      <td>0.727044</td>\n",
              "      <td>0.945739</td>\n",
              "      <td>1.110466</td>\n",
              "      <td>0.733568</td>\n",
              "      <td>1.165849</td>\n",
              "      <td>0.632403</td>\n",
              "      <td>-1.784831</td>\n",
              "      <td>-0.242143</td>\n",
              "      <td>0.309196</td>\n",
              "      <td>0.494858</td>\n",
              "      <td>1</td>\n",
              "    </tr>\n",
              "    <tr>\n",
              "      <th>14</th>\n",
              "      <td>0.035663</td>\n",
              "      <td>1.754785</td>\n",
              "      <td>-0.000874</td>\n",
              "      <td>-0.043296</td>\n",
              "      <td>0.514033</td>\n",
              "      <td>-0.922058</td>\n",
              "      <td>-2.335279</td>\n",
              "      <td>0.380048</td>\n",
              "      <td>1.241189</td>\n",
              "      <td>2.410391</td>\n",
              "      <td>1</td>\n",
              "    </tr>\n",
              "    <tr>\n",
              "      <th>15</th>\n",
              "      <td>0.140415</td>\n",
              "      <td>0.476550</td>\n",
              "      <td>-2.093543</td>\n",
              "      <td>-1.052213</td>\n",
              "      <td>-1.922572</td>\n",
              "      <td>-2.793633</td>\n",
              "      <td>0.908698</td>\n",
              "      <td>-0.109457</td>\n",
              "      <td>-1.863486</td>\n",
              "      <td>1.504277</td>\n",
              "      <td>1</td>\n",
              "    </tr>\n",
              "    <tr>\n",
              "      <th>16</th>\n",
              "      <td>-0.311443</td>\n",
              "      <td>0.906557</td>\n",
              "      <td>-1.273276</td>\n",
              "      <td>-2.400870</td>\n",
              "      <td>2.935482</td>\n",
              "      <td>2.146607</td>\n",
              "      <td>1.471082</td>\n",
              "      <td>-0.352264</td>\n",
              "      <td>-0.524620</td>\n",
              "      <td>-1.692719</td>\n",
              "      <td>0</td>\n",
              "    </tr>\n",
              "    <tr>\n",
              "      <th>17</th>\n",
              "      <td>1.648385</td>\n",
              "      <td>2.456168</td>\n",
              "      <td>0.695926</td>\n",
              "      <td>0.035747</td>\n",
              "      <td>0.905919</td>\n",
              "      <td>0.080702</td>\n",
              "      <td>-1.256040</td>\n",
              "      <td>-1.636983</td>\n",
              "      <td>2.390878</td>\n",
              "      <td>0.527681</td>\n",
              "      <td>1</td>\n",
              "    </tr>\n",
              "    <tr>\n",
              "      <th>18</th>\n",
              "      <td>-0.127168</td>\n",
              "      <td>2.254707</td>\n",
              "      <td>0.467355</td>\n",
              "      <td>-1.383135</td>\n",
              "      <td>0.735353</td>\n",
              "      <td>1.515613</td>\n",
              "      <td>1.043420</td>\n",
              "      <td>0.384626</td>\n",
              "      <td>0.095094</td>\n",
              "      <td>-1.129615</td>\n",
              "      <td>1</td>\n",
              "    </tr>\n",
              "    <tr>\n",
              "      <th>19</th>\n",
              "      <td>1.228359</td>\n",
              "      <td>3.375560</td>\n",
              "      <td>-0.829454</td>\n",
              "      <td>-1.453112</td>\n",
              "      <td>-1.081948</td>\n",
              "      <td>-1.635979</td>\n",
              "      <td>0.598493</td>\n",
              "      <td>-0.375364</td>\n",
              "      <td>-0.215743</td>\n",
              "      <td>0.989669</td>\n",
              "      <td>0</td>\n",
              "    </tr>\n",
              "  </tbody>\n",
              "</table>\n",
              "</div>\n",
              "    <div class=\"colab-df-buttons\">\n",
              "\n",
              "  <div class=\"colab-df-container\">\n",
              "    <button class=\"colab-df-convert\" onclick=\"convertToInteractive('df-ceb12d8d-3632-4782-950b-b59df5adbc98')\"\n",
              "            title=\"Convert this dataframe to an interactive table.\"\n",
              "            style=\"display:none;\">\n",
              "\n",
              "  <svg xmlns=\"http://www.w3.org/2000/svg\" height=\"24px\" viewBox=\"0 -960 960 960\">\n",
              "    <path d=\"M120-120v-720h720v720H120Zm60-500h600v-160H180v160Zm220 220h160v-160H400v160Zm0 220h160v-160H400v160ZM180-400h160v-160H180v160Zm440 0h160v-160H620v160ZM180-180h160v-160H180v160Zm440 0h160v-160H620v160Z\"/>\n",
              "  </svg>\n",
              "    </button>\n",
              "\n",
              "  <style>\n",
              "    .colab-df-container {\n",
              "      display:flex;\n",
              "      gap: 12px;\n",
              "    }\n",
              "\n",
              "    .colab-df-convert {\n",
              "      background-color: #E8F0FE;\n",
              "      border: none;\n",
              "      border-radius: 50%;\n",
              "      cursor: pointer;\n",
              "      display: none;\n",
              "      fill: #1967D2;\n",
              "      height: 32px;\n",
              "      padding: 0 0 0 0;\n",
              "      width: 32px;\n",
              "    }\n",
              "\n",
              "    .colab-df-convert:hover {\n",
              "      background-color: #E2EBFA;\n",
              "      box-shadow: 0px 1px 2px rgba(60, 64, 67, 0.3), 0px 1px 3px 1px rgba(60, 64, 67, 0.15);\n",
              "      fill: #174EA6;\n",
              "    }\n",
              "\n",
              "    .colab-df-buttons div {\n",
              "      margin-bottom: 4px;\n",
              "    }\n",
              "\n",
              "    [theme=dark] .colab-df-convert {\n",
              "      background-color: #3B4455;\n",
              "      fill: #D2E3FC;\n",
              "    }\n",
              "\n",
              "    [theme=dark] .colab-df-convert:hover {\n",
              "      background-color: #434B5C;\n",
              "      box-shadow: 0px 1px 3px 1px rgba(0, 0, 0, 0.15);\n",
              "      filter: drop-shadow(0px 1px 2px rgba(0, 0, 0, 0.3));\n",
              "      fill: #FFFFFF;\n",
              "    }\n",
              "  </style>\n",
              "\n",
              "    <script>\n",
              "      const buttonEl =\n",
              "        document.querySelector('#df-ceb12d8d-3632-4782-950b-b59df5adbc98 button.colab-df-convert');\n",
              "      buttonEl.style.display =\n",
              "        google.colab.kernel.accessAllowed ? 'block' : 'none';\n",
              "\n",
              "      async function convertToInteractive(key) {\n",
              "        const element = document.querySelector('#df-ceb12d8d-3632-4782-950b-b59df5adbc98');\n",
              "        const dataTable =\n",
              "          await google.colab.kernel.invokeFunction('convertToInteractive',\n",
              "                                                    [key], {});\n",
              "        if (!dataTable) return;\n",
              "\n",
              "        const docLinkHtml = 'Like what you see? Visit the ' +\n",
              "          '<a target=\"_blank\" href=https://colab.research.google.com/notebooks/data_table.ipynb>data table notebook</a>'\n",
              "          + ' to learn more about interactive tables.';\n",
              "        element.innerHTML = '';\n",
              "        dataTable['output_type'] = 'display_data';\n",
              "        await google.colab.output.renderOutput(dataTable, element);\n",
              "        const docLink = document.createElement('div');\n",
              "        docLink.innerHTML = docLinkHtml;\n",
              "        element.appendChild(docLink);\n",
              "      }\n",
              "    </script>\n",
              "  </div>\n",
              "\n",
              "\n",
              "<div id=\"df-b0dcdd60-b4ed-4e93-9aee-337c83a5f905\">\n",
              "  <button class=\"colab-df-quickchart\" onclick=\"quickchart('df-b0dcdd60-b4ed-4e93-9aee-337c83a5f905')\"\n",
              "            title=\"Suggest charts\"\n",
              "            style=\"display:none;\">\n",
              "\n",
              "<svg xmlns=\"http://www.w3.org/2000/svg\" height=\"24px\"viewBox=\"0 0 24 24\"\n",
              "     width=\"24px\">\n",
              "    <g>\n",
              "        <path d=\"M19 3H5c-1.1 0-2 .9-2 2v14c0 1.1.9 2 2 2h14c1.1 0 2-.9 2-2V5c0-1.1-.9-2-2-2zM9 17H7v-7h2v7zm4 0h-2V7h2v10zm4 0h-2v-4h2v4z\"/>\n",
              "    </g>\n",
              "</svg>\n",
              "  </button>\n",
              "\n",
              "<style>\n",
              "  .colab-df-quickchart {\n",
              "      --bg-color: #E8F0FE;\n",
              "      --fill-color: #1967D2;\n",
              "      --hover-bg-color: #E2EBFA;\n",
              "      --hover-fill-color: #174EA6;\n",
              "      --disabled-fill-color: #AAA;\n",
              "      --disabled-bg-color: #DDD;\n",
              "  }\n",
              "\n",
              "  [theme=dark] .colab-df-quickchart {\n",
              "      --bg-color: #3B4455;\n",
              "      --fill-color: #D2E3FC;\n",
              "      --hover-bg-color: #434B5C;\n",
              "      --hover-fill-color: #FFFFFF;\n",
              "      --disabled-bg-color: #3B4455;\n",
              "      --disabled-fill-color: #666;\n",
              "  }\n",
              "\n",
              "  .colab-df-quickchart {\n",
              "    background-color: var(--bg-color);\n",
              "    border: none;\n",
              "    border-radius: 50%;\n",
              "    cursor: pointer;\n",
              "    display: none;\n",
              "    fill: var(--fill-color);\n",
              "    height: 32px;\n",
              "    padding: 0;\n",
              "    width: 32px;\n",
              "  }\n",
              "\n",
              "  .colab-df-quickchart:hover {\n",
              "    background-color: var(--hover-bg-color);\n",
              "    box-shadow: 0 1px 2px rgba(60, 64, 67, 0.3), 0 1px 3px 1px rgba(60, 64, 67, 0.15);\n",
              "    fill: var(--button-hover-fill-color);\n",
              "  }\n",
              "\n",
              "  .colab-df-quickchart-complete:disabled,\n",
              "  .colab-df-quickchart-complete:disabled:hover {\n",
              "    background-color: var(--disabled-bg-color);\n",
              "    fill: var(--disabled-fill-color);\n",
              "    box-shadow: none;\n",
              "  }\n",
              "\n",
              "  .colab-df-spinner {\n",
              "    border: 2px solid var(--fill-color);\n",
              "    border-color: transparent;\n",
              "    border-bottom-color: var(--fill-color);\n",
              "    animation:\n",
              "      spin 1s steps(1) infinite;\n",
              "  }\n",
              "\n",
              "  @keyframes spin {\n",
              "    0% {\n",
              "      border-color: transparent;\n",
              "      border-bottom-color: var(--fill-color);\n",
              "      border-left-color: var(--fill-color);\n",
              "    }\n",
              "    20% {\n",
              "      border-color: transparent;\n",
              "      border-left-color: var(--fill-color);\n",
              "      border-top-color: var(--fill-color);\n",
              "    }\n",
              "    30% {\n",
              "      border-color: transparent;\n",
              "      border-left-color: var(--fill-color);\n",
              "      border-top-color: var(--fill-color);\n",
              "      border-right-color: var(--fill-color);\n",
              "    }\n",
              "    40% {\n",
              "      border-color: transparent;\n",
              "      border-right-color: var(--fill-color);\n",
              "      border-top-color: var(--fill-color);\n",
              "    }\n",
              "    60% {\n",
              "      border-color: transparent;\n",
              "      border-right-color: var(--fill-color);\n",
              "    }\n",
              "    80% {\n",
              "      border-color: transparent;\n",
              "      border-right-color: var(--fill-color);\n",
              "      border-bottom-color: var(--fill-color);\n",
              "    }\n",
              "    90% {\n",
              "      border-color: transparent;\n",
              "      border-bottom-color: var(--fill-color);\n",
              "    }\n",
              "  }\n",
              "</style>\n",
              "\n",
              "  <script>\n",
              "    async function quickchart(key) {\n",
              "      const quickchartButtonEl =\n",
              "        document.querySelector('#' + key + ' button');\n",
              "      quickchartButtonEl.disabled = true;  // To prevent multiple clicks.\n",
              "      quickchartButtonEl.classList.add('colab-df-spinner');\n",
              "      try {\n",
              "        const charts = await google.colab.kernel.invokeFunction(\n",
              "            'suggestCharts', [key], {});\n",
              "      } catch (error) {\n",
              "        console.error('Error during call to suggestCharts:', error);\n",
              "      }\n",
              "      quickchartButtonEl.classList.remove('colab-df-spinner');\n",
              "      quickchartButtonEl.classList.add('colab-df-quickchart-complete');\n",
              "    }\n",
              "    (() => {\n",
              "      let quickchartButtonEl =\n",
              "        document.querySelector('#df-b0dcdd60-b4ed-4e93-9aee-337c83a5f905 button');\n",
              "      quickchartButtonEl.style.display =\n",
              "        google.colab.kernel.accessAllowed ? 'block' : 'none';\n",
              "    })();\n",
              "  </script>\n",
              "</div>\n",
              "\n",
              "    </div>\n",
              "  </div>\n"
            ]
          },
          "metadata": {},
          "execution_count": 4
        }
      ]
    },
    {
      "cell_type": "code",
      "source": [
        "\n",
        "train_rate, val_rate, test_rate = 0.7, 0.15, 0.15\n",
        "\n",
        "X_train, X_test, y_train, y_test = train_test_split(X, y, train_size=train_rate, random_state=42)\n",
        "X_valid, X_test, y_valid, y_test = train_test_split(X_test, y_test, test_size=test_rate/(test_rate+val_rate), random_state=42)"
      ],
      "metadata": {
        "id": "kuyHPRezxjAo"
      },
      "execution_count": 5,
      "outputs": []
    },
    {
      "cell_type": "code",
      "source": [
        "len(X_train), len(X_valid), len(X_test)"
      ],
      "metadata": {
        "colab": {
          "base_uri": "https://localhost:8080/"
        },
        "id": "Oh3S1WhAyBL7",
        "outputId": "423805d2-3527-42a6-de57-41276c31088a"
      },
      "execution_count": 6,
      "outputs": [
        {
          "output_type": "execute_result",
          "data": {
            "text/plain": [
              "(7000, 1500, 1500)"
            ]
          },
          "metadata": {},
          "execution_count": 6
        }
      ]
    },
    {
      "cell_type": "code",
      "source": [],
      "metadata": {
        "id": "y4Ba3ueHyRm6"
      },
      "execution_count": 6,
      "outputs": []
    },
    {
      "cell_type": "markdown",
      "source": [
        "# TabNetを使って予測"
      ],
      "metadata": {
        "id": "BEHbinvV0om4"
      }
    },
    {
      "cell_type": "markdown",
      "source": [
        "## 事前学習"
      ],
      "metadata": {
        "id": "-4rAB9Um-10a"
      }
    },
    {
      "cell_type": "code",
      "source": [
        "unsupervised_model = TabNetPretrainer(\n",
        "    optimizer_fn=torch.optim.Adam,\n",
        "    optimizer_params=dict(lr=2e-2),\n",
        "    mask_type='entmax'\n",
        ")\n",
        "\n",
        "unsupervised_model.fit(\n",
        "    X_train=X_train,\n",
        "    eval_set=[X_valid],\n",
        "    pretraining_ratio=0.8,\n",
        "    max_epochs = 100,\n",
        ")"
      ],
      "metadata": {
        "colab": {
          "base_uri": "https://localhost:8080/"
        },
        "id": "TtIY8dS-9usI",
        "outputId": "521f3348-f2d7-487d-8421-51332fe21b65"
      },
      "execution_count": 7,
      "outputs": [
        {
          "output_type": "stream",
          "name": "stderr",
          "text": [
            "/usr/local/lib/python3.10/dist-packages/pytorch_tabnet/abstract_model.py:82: UserWarning: Device used : cpu\n",
            "  warnings.warn(f\"Device used : {self.device}\")\n"
          ]
        },
        {
          "output_type": "stream",
          "name": "stdout",
          "text": [
            "epoch 0  | loss: 1.98879 | val_0_unsup_loss_numpy: 1.4636800289154053|  0:00:00s\n",
            "epoch 1  | loss: 1.16293 | val_0_unsup_loss_numpy: 1.066640019416809|  0:00:01s\n",
            "epoch 2  | loss: 1.03527 | val_0_unsup_loss_numpy: 0.9839100241661072|  0:00:01s\n",
            "epoch 3  | loss: 1.00156 | val_0_unsup_loss_numpy: 0.956309974193573|  0:00:01s\n",
            "epoch 4  | loss: 0.9737  | val_0_unsup_loss_numpy: 0.9258900284767151|  0:00:02s\n",
            "epoch 5  | loss: 0.95633 | val_0_unsup_loss_numpy: 0.8822600245475769|  0:00:03s\n",
            "epoch 6  | loss: 0.94677 | val_0_unsup_loss_numpy: 0.8386800289154053|  0:00:03s\n",
            "epoch 7  | loss: 0.9276  | val_0_unsup_loss_numpy: 0.790690004825592|  0:00:05s\n",
            "epoch 8  | loss: 0.91786 | val_0_unsup_loss_numpy: 0.7493000030517578|  0:00:05s\n",
            "epoch 9  | loss: 0.89104 | val_0_unsup_loss_numpy: 0.7110599875450134|  0:00:06s\n",
            "epoch 10 | loss: 0.89177 | val_0_unsup_loss_numpy: 0.6906800270080566|  0:00:07s\n",
            "epoch 11 | loss: 0.86912 | val_0_unsup_loss_numpy: 0.6548200249671936|  0:00:08s\n",
            "epoch 12 | loss: 0.87086 | val_0_unsup_loss_numpy: 0.6175500154495239|  0:00:09s\n",
            "epoch 13 | loss: 0.86156 | val_0_unsup_loss_numpy: 0.6071400046348572|  0:00:10s\n",
            "epoch 14 | loss: 0.86038 | val_0_unsup_loss_numpy: 0.5909199714660645|  0:00:12s\n",
            "epoch 15 | loss: 0.85907 | val_0_unsup_loss_numpy: 0.5802599787712097|  0:00:13s\n",
            "epoch 16 | loss: 0.8522  | val_0_unsup_loss_numpy: 0.571370005607605|  0:00:14s\n",
            "epoch 17 | loss: 0.85295 | val_0_unsup_loss_numpy: 0.5581700205802917|  0:00:15s\n",
            "epoch 18 | loss: 0.83908 | val_0_unsup_loss_numpy: 0.5580400228500366|  0:00:15s\n",
            "epoch 19 | loss: 0.84881 | val_0_unsup_loss_numpy: 0.5419099926948547|  0:00:16s\n",
            "epoch 20 | loss: 0.84529 | val_0_unsup_loss_numpy: 0.5326099991798401|  0:00:17s\n",
            "epoch 21 | loss: 0.84395 | val_0_unsup_loss_numpy: 0.5333300232887268|  0:00:18s\n",
            "epoch 22 | loss: 0.84335 | val_0_unsup_loss_numpy: 0.5300899744033813|  0:00:19s\n",
            "epoch 23 | loss: 0.83898 | val_0_unsup_loss_numpy: 0.5230100154876709|  0:00:20s\n",
            "epoch 24 | loss: 0.83545 | val_0_unsup_loss_numpy: 0.5143100023269653|  0:00:21s\n",
            "epoch 25 | loss: 0.82755 | val_0_unsup_loss_numpy: 0.5024200081825256|  0:00:22s\n",
            "epoch 26 | loss: 0.83268 | val_0_unsup_loss_numpy: 0.5072000026702881|  0:00:24s\n",
            "epoch 27 | loss: 0.82742 | val_0_unsup_loss_numpy: 0.5056700110435486|  0:00:26s\n",
            "epoch 28 | loss: 0.82581 | val_0_unsup_loss_numpy: 0.49842000007629395|  0:00:27s\n",
            "epoch 29 | loss: 0.82533 | val_0_unsup_loss_numpy: 0.4977000057697296|  0:00:28s\n",
            "epoch 30 | loss: 0.82537 | val_0_unsup_loss_numpy: 0.48539999127388|  0:00:29s\n",
            "epoch 31 | loss: 0.83068 | val_0_unsup_loss_numpy: 0.49035000801086426|  0:00:30s\n",
            "epoch 32 | loss: 0.83292 | val_0_unsup_loss_numpy: 0.4870400130748749|  0:00:31s\n",
            "epoch 33 | loss: 0.82438 | val_0_unsup_loss_numpy: 0.4826900064945221|  0:00:32s\n",
            "epoch 34 | loss: 0.82884 | val_0_unsup_loss_numpy: 0.48144999146461487|  0:00:33s\n",
            "epoch 35 | loss: 0.82123 | val_0_unsup_loss_numpy: 0.48377999663352966|  0:00:34s\n",
            "epoch 36 | loss: 0.82425 | val_0_unsup_loss_numpy: 0.4841800034046173|  0:00:35s\n",
            "epoch 37 | loss: 0.82643 | val_0_unsup_loss_numpy: 0.4779199957847595|  0:00:36s\n",
            "epoch 38 | loss: 0.82577 | val_0_unsup_loss_numpy: 0.47846001386642456|  0:00:37s\n",
            "epoch 39 | loss: 0.82295 | val_0_unsup_loss_numpy: 0.48385000228881836|  0:00:37s\n",
            "epoch 40 | loss: 0.83345 | val_0_unsup_loss_numpy: 0.4669399857521057|  0:00:38s\n",
            "epoch 41 | loss: 0.8192  | val_0_unsup_loss_numpy: 0.4779900014400482|  0:00:38s\n",
            "epoch 42 | loss: 0.82324 | val_0_unsup_loss_numpy: 0.47558000683784485|  0:00:39s\n",
            "epoch 43 | loss: 0.82071 | val_0_unsup_loss_numpy: 0.46794000267982483|  0:00:39s\n",
            "epoch 44 | loss: 0.82999 | val_0_unsup_loss_numpy: 0.46838998794555664|  0:00:40s\n",
            "epoch 45 | loss: 0.81543 | val_0_unsup_loss_numpy: 0.4736500084400177|  0:00:40s\n",
            "epoch 46 | loss: 0.82367 | val_0_unsup_loss_numpy: 0.4590499997138977|  0:00:41s\n",
            "epoch 47 | loss: 0.83086 | val_0_unsup_loss_numpy: 0.46476998925209045|  0:00:41s\n",
            "epoch 48 | loss: 0.83052 | val_0_unsup_loss_numpy: 0.46086999773979187|  0:00:41s\n",
            "epoch 49 | loss: 0.81393 | val_0_unsup_loss_numpy: 0.4659000039100647|  0:00:42s\n",
            "epoch 50 | loss: 0.80606 | val_0_unsup_loss_numpy: 0.45875000953674316|  0:00:42s\n",
            "epoch 51 | loss: 0.8243  | val_0_unsup_loss_numpy: 0.4601700007915497|  0:00:43s\n",
            "epoch 52 | loss: 0.80939 | val_0_unsup_loss_numpy: 0.4498499929904938|  0:00:43s\n",
            "epoch 53 | loss: 0.81588 | val_0_unsup_loss_numpy: 0.4531500041484833|  0:00:43s\n",
            "epoch 54 | loss: 0.81002 | val_0_unsup_loss_numpy: 0.45805999636650085|  0:00:44s\n",
            "epoch 55 | loss: 0.81011 | val_0_unsup_loss_numpy: 0.45816001296043396|  0:00:44s\n",
            "epoch 56 | loss: 0.81096 | val_0_unsup_loss_numpy: 0.4649699926376343|  0:00:45s\n",
            "epoch 57 | loss: 0.82349 | val_0_unsup_loss_numpy: 0.45809999108314514|  0:00:45s\n",
            "epoch 58 | loss: 0.81266 | val_0_unsup_loss_numpy: 0.45048999786376953|  0:00:45s\n",
            "epoch 59 | loss: 0.81033 | val_0_unsup_loss_numpy: 0.45138999819755554|  0:00:46s\n",
            "epoch 60 | loss: 0.81077 | val_0_unsup_loss_numpy: 0.45006999373435974|  0:00:46s\n",
            "epoch 61 | loss: 0.81799 | val_0_unsup_loss_numpy: 0.4457100033760071|  0:00:47s\n",
            "epoch 62 | loss: 0.82433 | val_0_unsup_loss_numpy: 0.4547399878501892|  0:00:47s\n",
            "epoch 63 | loss: 0.81046 | val_0_unsup_loss_numpy: 0.4549199938774109|  0:00:47s\n",
            "epoch 64 | loss: 0.81385 | val_0_unsup_loss_numpy: 0.45006999373435974|  0:00:48s\n",
            "epoch 65 | loss: 0.81685 | val_0_unsup_loss_numpy: 0.44444000720977783|  0:00:48s\n",
            "epoch 66 | loss: 0.80163 | val_0_unsup_loss_numpy: 0.4487000107765198|  0:00:49s\n",
            "epoch 67 | loss: 0.82069 | val_0_unsup_loss_numpy: 0.44126999378204346|  0:00:50s\n",
            "epoch 68 | loss: 0.81297 | val_0_unsup_loss_numpy: 0.44277000427246094|  0:00:50s\n",
            "epoch 69 | loss: 0.81255 | val_0_unsup_loss_numpy: 0.44183000922203064|  0:00:51s\n",
            "epoch 70 | loss: 0.80943 | val_0_unsup_loss_numpy: 0.4419800043106079|  0:00:51s\n",
            "epoch 71 | loss: 0.80908 | val_0_unsup_loss_numpy: 0.4437899887561798|  0:00:52s\n",
            "epoch 72 | loss: 0.82351 | val_0_unsup_loss_numpy: 0.4496600031852722|  0:00:52s\n",
            "epoch 73 | loss: 0.80736 | val_0_unsup_loss_numpy: 0.44940000772476196|  0:00:52s\n",
            "epoch 74 | loss: 0.81666 | val_0_unsup_loss_numpy: 0.4451099932193756|  0:00:53s\n",
            "epoch 75 | loss: 0.81543 | val_0_unsup_loss_numpy: 0.44078999757766724|  0:00:53s\n",
            "epoch 76 | loss: 0.81112 | val_0_unsup_loss_numpy: 0.4472300112247467|  0:00:54s\n",
            "epoch 77 | loss: 0.81188 | val_0_unsup_loss_numpy: 0.45058000087738037|  0:00:54s\n",
            "epoch 78 | loss: 0.81196 | val_0_unsup_loss_numpy: 0.4437499940395355|  0:00:55s\n",
            "epoch 79 | loss: 0.81039 | val_0_unsup_loss_numpy: 0.44093000888824463|  0:00:55s\n",
            "epoch 80 | loss: 0.81401 | val_0_unsup_loss_numpy: 0.4481799900531769|  0:00:55s\n",
            "epoch 81 | loss: 0.81695 | val_0_unsup_loss_numpy: 0.4299600124359131|  0:00:56s\n",
            "epoch 82 | loss: 0.80948 | val_0_unsup_loss_numpy: 0.4426400065422058|  0:00:56s\n",
            "epoch 83 | loss: 0.81476 | val_0_unsup_loss_numpy: 0.4400399923324585|  0:00:57s\n",
            "epoch 84 | loss: 0.8044  | val_0_unsup_loss_numpy: 0.4340200126171112|  0:00:57s\n",
            "epoch 85 | loss: 0.81229 | val_0_unsup_loss_numpy: 0.4379599988460541|  0:00:57s\n",
            "epoch 86 | loss: 0.80759 | val_0_unsup_loss_numpy: 0.43334999680519104|  0:00:58s\n",
            "epoch 87 | loss: 0.80636 | val_0_unsup_loss_numpy: 0.4361400008201599|  0:00:58s\n",
            "epoch 88 | loss: 0.80761 | val_0_unsup_loss_numpy: 0.43779000639915466|  0:00:59s\n",
            "epoch 89 | loss: 0.81664 | val_0_unsup_loss_numpy: 0.4300299882888794|  0:00:59s\n",
            "epoch 90 | loss: 0.8092  | val_0_unsup_loss_numpy: 0.4290499985218048|  0:00:59s\n",
            "epoch 91 | loss: 0.81684 | val_0_unsup_loss_numpy: 0.4352000057697296|  0:01:00s\n",
            "epoch 92 | loss: 0.80849 | val_0_unsup_loss_numpy: 0.4324299991130829|  0:01:00s\n",
            "epoch 93 | loss: 0.80862 | val_0_unsup_loss_numpy: 0.43303000926971436|  0:01:01s\n",
            "epoch 94 | loss: 0.82027 | val_0_unsup_loss_numpy: 0.4381299912929535|  0:01:01s\n",
            "epoch 95 | loss: 0.81154 | val_0_unsup_loss_numpy: 0.43083998560905457|  0:01:02s\n",
            "epoch 96 | loss: 0.80652 | val_0_unsup_loss_numpy: 0.43999001383781433|  0:01:03s\n",
            "epoch 97 | loss: 0.80528 | val_0_unsup_loss_numpy: 0.42949000000953674|  0:01:03s\n",
            "epoch 98 | loss: 0.8033  | val_0_unsup_loss_numpy: 0.429639995098114|  0:01:04s\n",
            "epoch 99 | loss: 0.81231 | val_0_unsup_loss_numpy: 0.4291599988937378|  0:01:04s\n",
            "Stop training because you reached max_epochs = 100 with best_epoch = 90 and best_val_0_unsup_loss_numpy = 0.4290499985218048\n"
          ]
        },
        {
          "output_type": "stream",
          "name": "stderr",
          "text": [
            "/usr/local/lib/python3.10/dist-packages/pytorch_tabnet/callbacks.py:172: UserWarning: Best weights from best epoch are automatically used!\n",
            "  warnings.warn(wrn_msg)\n"
          ]
        }
      ]
    },
    {
      "cell_type": "markdown",
      "source": [
        "## 学習"
      ],
      "metadata": {
        "id": "2hG14GTa0lNp"
      }
    },
    {
      "cell_type": "code",
      "source": [
        "tabnet_params = {\n",
        "                 \"optimizer_fn\":torch.optim.Adam,\n",
        "                 \"optimizer_params\":dict(lr=2e-2),\n",
        "                 \"scheduler_params\":{\"step_size\":50, # how to use learning rate scheduler\n",
        "                                 \"gamma\":0.9},\n",
        "                 \"scheduler_fn\":torch.optim.lr_scheduler.StepLR,\n",
        "                 \"mask_type\":'entmax',\n",
        "                 }\n",
        "\n",
        "clf = TabNetClassifier(**tabnet_params\n",
        "                      )"
      ],
      "metadata": {
        "colab": {
          "base_uri": "https://localhost:8080/"
        },
        "id": "AngHxLYkysyj",
        "outputId": "d2fbe9fb-971e-4bd2-f9bd-502baf1c47a4"
      },
      "execution_count": 8,
      "outputs": [
        {
          "output_type": "stream",
          "name": "stderr",
          "text": [
            "/usr/local/lib/python3.10/dist-packages/pytorch_tabnet/abstract_model.py:82: UserWarning: Device used : cpu\n",
            "  warnings.warn(f\"Device used : {self.device}\")\n"
          ]
        }
      ]
    },
    {
      "cell_type": "code",
      "source": [
        "max_epochs = 20"
      ],
      "metadata": {
        "id": "ZQzUO5NGyxBQ"
      },
      "execution_count": 9,
      "outputs": []
    },
    {
      "cell_type": "code",
      "source": [
        "# from pytorch_tabnet.augmentations import ClassificationSMOTE\n",
        "# aug = ClassificationSMOTE(p=0.2)"
      ],
      "metadata": {
        "id": "VI2z7_d7zL6u"
      },
      "execution_count": 10,
      "outputs": []
    },
    {
      "cell_type": "code",
      "source": [
        "clf.fit(\n",
        "    X_train=X_train, y_train=y_train,\n",
        "    eval_set=[(X_train, y_train), (X_valid, y_valid)],\n",
        "    eval_name=['train', 'valid'],\n",
        "    eval_metric=['auc'],\n",
        "    max_epochs=max_epochs , patience=20,\n",
        "    batch_size=1024, virtual_batch_size=128,\n",
        "    num_workers=0,\n",
        "    weights=1,\n",
        "    drop_last=False,\n",
        "    augmentations=None,\n",
        "    from_unsupervised=unsupervised_model\n",
        ")"
      ],
      "metadata": {
        "colab": {
          "base_uri": "https://localhost:8080/"
        },
        "id": "pjHM1K0xy-ET",
        "outputId": "cf4f642f-eccb-4003-ba52-d920acc1f53a"
      },
      "execution_count": 11,
      "outputs": [
        {
          "output_type": "stream",
          "name": "stderr",
          "text": [
            "/usr/local/lib/python3.10/dist-packages/pytorch_tabnet/abstract_model.py:248: UserWarning: Loading weights from unsupervised pretraining\n",
            "  warnings.warn(\"Loading weights from unsupervised pretraining\")\n"
          ]
        },
        {
          "output_type": "stream",
          "name": "stdout",
          "text": [
            "epoch 0  | loss: 0.63144 | train_auc: 0.82318 | valid_auc: 0.82092 |  0:00:00s\n",
            "epoch 1  | loss: 0.38146 | train_auc: 0.88355 | valid_auc: 0.88751 |  0:00:01s\n",
            "epoch 2  | loss: 0.26928 | train_auc: 0.9151  | valid_auc: 0.91281 |  0:00:01s\n",
            "epoch 3  | loss: 0.24347 | train_auc: 0.93506 | valid_auc: 0.92801 |  0:00:02s\n",
            "epoch 4  | loss: 0.19932 | train_auc: 0.95881 | valid_auc: 0.95796 |  0:00:02s\n",
            "epoch 5  | loss: 0.19286 | train_auc: 0.95787 | valid_auc: 0.953   |  0:00:03s\n",
            "epoch 6  | loss: 0.17665 | train_auc: 0.96217 | valid_auc: 0.96149 |  0:00:03s\n",
            "epoch 7  | loss: 0.1759  | train_auc: 0.97506 | valid_auc: 0.97294 |  0:00:04s\n",
            "epoch 8  | loss: 0.16788 | train_auc: 0.97338 | valid_auc: 0.97047 |  0:00:04s\n",
            "epoch 9  | loss: 0.15998 | train_auc: 0.97976 | valid_auc: 0.97753 |  0:00:05s\n",
            "epoch 10 | loss: 0.15735 | train_auc: 0.97699 | valid_auc: 0.97356 |  0:00:05s\n",
            "epoch 11 | loss: 0.15171 | train_auc: 0.98259 | valid_auc: 0.97899 |  0:00:06s\n",
            "epoch 12 | loss: 0.14816 | train_auc: 0.97924 | valid_auc: 0.97666 |  0:00:07s\n",
            "epoch 13 | loss: 0.1461  | train_auc: 0.98699 | valid_auc: 0.98234 |  0:00:07s\n",
            "epoch 14 | loss: 0.14025 | train_auc: 0.98679 | valid_auc: 0.98173 |  0:00:08s\n",
            "epoch 15 | loss: 0.14536 | train_auc: 0.98605 | valid_auc: 0.98154 |  0:00:08s\n",
            "epoch 16 | loss: 0.14768 | train_auc: 0.98603 | valid_auc: 0.98144 |  0:00:09s\n",
            "epoch 17 | loss: 0.14672 | train_auc: 0.9878  | valid_auc: 0.98314 |  0:00:10s\n",
            "epoch 18 | loss: 0.14678 | train_auc: 0.98867 | valid_auc: 0.98518 |  0:00:11s\n",
            "epoch 19 | loss: 0.14477 | train_auc: 0.98862 | valid_auc: 0.98479 |  0:00:11s\n",
            "Stop training because you reached max_epochs = 20 with best_epoch = 18 and best_valid_auc = 0.98518\n"
          ]
        },
        {
          "output_type": "stream",
          "name": "stderr",
          "text": [
            "/usr/local/lib/python3.10/dist-packages/pytorch_tabnet/callbacks.py:172: UserWarning: Best weights from best epoch are automatically used!\n",
            "  warnings.warn(wrn_msg)\n"
          ]
        }
      ]
    },
    {
      "cell_type": "code",
      "source": [],
      "metadata": {
        "id": "bSzDS2Z5zH2E"
      },
      "execution_count": 11,
      "outputs": []
    },
    {
      "cell_type": "markdown",
      "source": [
        "## 予測"
      ],
      "metadata": {
        "id": "WJ8TKvMk0tMH"
      }
    },
    {
      "cell_type": "code",
      "source": [
        "preds = clf.predict_proba(X_test)\n",
        "test_auc = roc_auc_score(y_score=preds[:,1], y_true=y_test)\n",
        "\n",
        "\n",
        "preds_valid = clf.predict_proba(X_valid)\n",
        "valid_auc = roc_auc_score(y_score=preds_valid[:,1], y_true=y_valid)\n",
        "\n",
        "print(\"valid_auc = \", valid_auc)\n",
        "print(\"test_auc = \", test_auc)"
      ],
      "metadata": {
        "colab": {
          "base_uri": "https://localhost:8080/"
        },
        "id": "E8Akp_RWzUMg",
        "outputId": "5c7d5101-3246-4491-90d7-603917aeaa70"
      },
      "execution_count": 12,
      "outputs": [
        {
          "output_type": "stream",
          "name": "stdout",
          "text": [
            "valid_auc =  0.9851784018450686\n",
            "test_auc =  0.9864709407043504\n"
          ]
        }
      ]
    },
    {
      "cell_type": "code",
      "source": [
        "importance = sorted([(i, n) for i, n in enumerate(clf.feature_importances_)], key = lambda x: x[1], reverse = True)\n",
        "label, y = [], []\n",
        "for e in importance:\n",
        "  print(f\"feature {e[0]} : {e[1]}\")\n",
        "  label.append(e[0])\n",
        "  y.append(e[1])\n",
        "\n",
        "plt.bar([i for i in range(len(y))], y, tick_label = label)\n",
        "plt.show()"
      ],
      "metadata": {
        "colab": {
          "base_uri": "https://localhost:8080/",
          "height": 609
        },
        "id": "Q4gguBLB1R20",
        "outputId": "3a050159-3070-492e-a55e-cc2066c66ddf"
      },
      "execution_count": 13,
      "outputs": [
        {
          "output_type": "stream",
          "name": "stdout",
          "text": [
            "feature 9 : 0.2850628122941535\n",
            "feature 5 : 0.16348304202670996\n",
            "feature 0 : 0.14779516687246716\n",
            "feature 3 : 0.1265401265637643\n",
            "feature 2 : 0.07739413530142895\n",
            "feature 6 : 0.0680603533275236\n",
            "feature 1 : 0.06336122861362507\n",
            "feature 4 : 0.043713949430405824\n",
            "feature 8 : 0.023770800553614642\n",
            "feature 7 : 0.00081838501630697\n"
          ]
        },
        {
          "output_type": "display_data",
          "data": {
            "text/plain": [
              "<Figure size 640x480 with 1 Axes>"
            ],
            "image/png": "[encoded data removed]"
          },
          "metadata": {}
        }
      ]
    },
    {
      "cell_type": "markdown",
      "source": [
        "## LightGBMを使って予測"
      ],
      "metadata": {
        "id": "Lqs23c9E0KXZ"
      }
    },
    {
      "cell_type": "markdown",
      "source": [
        "## 学習"
      ],
      "metadata": {
        "id": "zG--1eTm0vO2"
      }
    },
    {
      "cell_type": "code",
      "source": [
        "from lightgbm import LGBMClassifier\n",
        "\n",
        "lgb_params = {\n",
        "  'n_estimators': 10000,\n",
        "  'learning_rate': 0.05,\n",
        "  'random_state': 42,\n",
        "  'early_stopping_round': 20,\n",
        "  'metric': 'auc'\n",
        "}\n",
        "\n",
        "lgb = LGBMClassifier(**lgb_params)\n",
        "lgb.fit(X_train, y_train, eval_set=[(X_valid, y_valid)])"
      ],
      "metadata": {
        "colab": {
          "base_uri": "https://localhost:8080/",
          "height": 271
        },
        "id": "kngZ9zF3zaJL",
        "outputId": "9deead3d-ba5b-454e-cdd9-a0e50d9ab356"
      },
      "execution_count": 14,
      "outputs": [
        {
          "output_type": "stream",
          "name": "stdout",
          "text": [
            "[LightGBM] [Info] Number of positive: 3447, number of negative: 3553\n",
            "[LightGBM] [Info] Auto-choosing col-wise multi-threading, the overhead of testing was 0.000926 seconds.\n",
            "You can set `force_col_wise=true` to remove the overhead.\n",
            "[LightGBM] [Info] Total Bins 2550\n",
            "[LightGBM] [Info] Number of data points in the train set: 7000, number of used features: 10\n",
            "[LightGBM] [Info] [binary:BoostFromScore]: pavg=0.492429 -> initscore=-0.030288\n",
            "[LightGBM] [Info] Start training from score -0.030288\n",
            "Training until validation scores don't improve for 20 rounds\n",
            "Early stopping, best iteration is:\n",
            "[264]\tvalid_0's auc: 0.983045\n"
          ]
        },
        {
          "output_type": "execute_result",
          "data": {
            "text/plain": [
              "LGBMClassifier(early_stopping_round=20, learning_rate=0.05, metric='auc',\n",
              "               n_estimators=10000, random_state=42)"
            ],
            "text/html": [
              "<style>#sk-container-id-1 {color: black;background-color: white;}#sk-container-id-1 pre{padding: 0;}#sk-container-id-1 div.sk-toggleable {background-color: white;}#sk-container-id-1 label.sk-toggleable__label {cursor: pointer;display: block;width: 100%;margin-bottom: 0;padding: 0.3em;box-sizing: border-box;text-align: center;}#sk-container-id-1 label.sk-toggleable__label-arrow:before {content: \"▸\";float: left;margin-right: 0.25em;color: #696969;}#sk-container-id-1 label.sk-toggleable__label-arrow:hover:before {color: black;}#sk-container-id-1 div.sk-estimator:hover label.sk-toggleable__label-arrow:before {color: black;}#sk-container-id-1 div.sk-toggleable__content {max-height: 0;max-width: 0;overflow: hidden;text-align: left;background-color: #f0f8ff;}#sk-container-id-1 div.sk-toggleable__content pre {margin: 0.2em;color: black;border-radius: 0.25em;background-color: #f0f8ff;}#sk-container-id-1 input.sk-toggleable__control:checked~div.sk-toggleable__content {max-height: 200px;max-width: 100%;overflow: auto;}#sk-container-id-1 input.sk-toggleable__control:checked~label.sk-toggleable__label-arrow:before {content: \"▾\";}#sk-container-id-1 div.sk-estimator input.sk-toggleable__control:checked~label.sk-toggleable__label {background-color: #d4ebff;}#sk-container-id-1 div.sk-label input.sk-toggleable__control:checked~label.sk-toggleable__label {background-color: #d4ebff;}#sk-container-id-1 input.sk-hidden--visually {border: 0;clip: rect(1px 1px 1px 1px);clip: rect(1px, 1px, 1px, 1px);height: 1px;margin: -1px;overflow: hidden;padding: 0;position: absolute;width: 1px;}#sk-container-id-1 div.sk-estimator {font-family: monospace;background-color: #f0f8ff;border: 1px dotted black;border-radius: 0.25em;box-sizing: border-box;margin-bottom: 0.5em;}#sk-container-id-1 div.sk-estimator:hover {background-color: #d4ebff;}#sk-container-id-1 div.sk-parallel-item::after {content: \"\";width: 100%;border-bottom: 1px solid gray;flex-grow: 1;}#sk-container-id-1 div.sk-label:hover label.sk-toggleable__label {background-color: #d4ebff;}#sk-container-id-1 div.sk-serial::before {content: \"\";position: absolute;border-left: 1px solid gray;box-sizing: border-box;top: 0;bottom: 0;left: 50%;z-index: 0;}#sk-container-id-1 div.sk-serial {display: flex;flex-direction: column;align-items: center;background-color: white;padding-right: 0.2em;padding-left: 0.2em;position: relative;}#sk-container-id-1 div.sk-item {position: relative;z-index: 1;}#sk-container-id-1 div.sk-parallel {display: flex;align-items: stretch;justify-content: center;background-color: white;position: relative;}#sk-container-id-1 div.sk-item::before, #sk-container-id-1 div.sk-parallel-item::before {content: \"\";position: absolute;border-left: 1px solid gray;box-sizing: border-box;top: 0;bottom: 0;left: 50%;z-index: -1;}#sk-container-id-1 div.sk-parallel-item {display: flex;flex-direction: column;z-index: 1;position: relative;background-color: white;}#sk-container-id-1 div.sk-parallel-item:first-child::after {align-self: flex-end;width: 50%;}#sk-container-id-1 div.sk-parallel-item:last-child::after {align-self: flex-start;width: 50%;}#sk-container-id-1 div.sk-parallel-item:only-child::after {width: 0;}#sk-container-id-1 div.sk-dashed-wrapped {border: 1px dashed gray;margin: 0 0.4em 0.5em 0.4em;box-sizing: border-box;padding-bottom: 0.4em;background-color: white;}#sk-container-id-1 div.sk-label label {font-family: monospace;font-weight: bold;display: inline-block;line-height: 1.2em;}#sk-container-id-1 div.sk-label-container {text-align: center;}#sk-container-id-1 div.sk-container {/* jupyter's `normalize.less` sets `[hidden] { display: none; }` but bootstrap.min.css set `[hidden] { display: none !important; }` so we also need the `!important` here to be able to override the default hidden behavior on the sphinx rendered scikit-learn.org. See: https://github.com/scikit-learn/scikit-learn/issues/21755 */display: inline-block !important;position: relative;}#sk-container-id-1 div.sk-text-repr-fallback {display: none;}</style><div id=\"sk-container-id-1\" class=\"sk-top-container\"><div class=\"sk-text-repr-fallback\"><pre>LGBMClassifier(early_stopping_round=20, learning_rate=0.05, metric=&#x27;auc&#x27;,\n",
              "               n_estimators=10000, random_state=42)</pre><b>In a Jupyter environment, please rerun this cell to show the HTML representation or trust the notebook. <br />On GitHub, the HTML representation is unable to render, please try loading this page with nbviewer.org.</b></div><div class=\"sk-container\" hidden><div class=\"sk-item\"><div class=\"sk-estimator sk-toggleable\"><input class=\"sk-toggleable__control sk-hidden--visually\" id=\"sk-estimator-id-1\" type=\"checkbox\" checked><label for=\"sk-estimator-id-1\" class=\"sk-toggleable__label sk-toggleable__label-arrow\">LGBMClassifier</label><div class=\"sk-toggleable__content\"><pre>LGBMClassifier(early_stopping_round=20, learning_rate=0.05, metric=&#x27;auc&#x27;,\n",
              "               n_estimators=10000, random_state=42)</pre></div></div></div></div></div>"
            ]
          },
          "metadata": {},
          "execution_count": 14
        }
      ]
    },
    {
      "cell_type": "markdown",
      "source": [
        "## 予測"
      ],
      "metadata": {
        "id": "rkKCzWE50yq6"
      }
    },
    {
      "cell_type": "code",
      "source": [
        "preds = lgb.predict_proba(X_test)\n",
        "test_auc = roc_auc_score(y_score=preds[:,1], y_true=y_test)\n",
        "\n",
        "\n",
        "preds_valid = lgb.predict_proba(X_valid)\n",
        "valid_auc = roc_auc_score(y_score=preds_valid[:,1], y_true=y_valid)\n",
        "\n",
        "print(\"valid_auc = \", valid_auc)\n",
        "print(\"test_auc = \", test_auc)"
      ],
      "metadata": {
        "colab": {
          "base_uri": "https://localhost:8080/"
        },
        "id": "cA50WlnCz-ZA",
        "outputId": "6a65c6df-7597-44c0-c7e0-890531c9ff51"
      },
      "execution_count": 15,
      "outputs": [
        {
          "output_type": "stream",
          "name": "stdout",
          "text": [
            "valid_auc =  0.9830452198873252\n",
            "test_auc =  0.9846662363824835\n"
          ]
        }
      ]
    },
    {
      "cell_type": "code",
      "source": [
        "importance = sorted([(i, n) for i, n in enumerate(lgb.feature_importances_)], key = lambda x: x[1], reverse = True)\n",
        "label, y = [], []\n",
        "for e in importance:\n",
        "  print(f\"feature {e[0]} : {e[1]}\")\n",
        "  label.append(e[0])\n",
        "  y.append(e[1])\n",
        "\n",
        "plt.bar([i for i in range(len(y))], y, tick_label = label)\n",
        "plt.show()"
      ],
      "metadata": {
        "colab": {
          "base_uri": "https://localhost:8080/",
          "height": 609
        },
        "id": "q0RDwgiX0HyL",
        "outputId": "14a6f633-1898-4539-fb47-51e4ab6e30d9"
      },
      "execution_count": 18,
      "outputs": [
        {
          "output_type": "stream",
          "name": "stdout",
          "text": [
            "feature 0 : 1258\n",
            "feature 1 : 1249\n",
            "feature 4 : 1061\n",
            "feature 6 : 946\n",
            "feature 2 : 859\n",
            "feature 5 : 610\n",
            "feature 3 : 582\n",
            "feature 9 : 488\n",
            "feature 8 : 478\n",
            "feature 7 : 389\n"
          ]
        },
        {
          "output_type": "display_data",
          "data": {
            "text/plain": [
              "<Figure size 640x480 with 1 Axes>"
            ],
            "image/png": "[encoded data removed]"
          },
          "metadata": {}
        }
      ]
    },
    {
      "cell_type": "code",
      "source": [],
      "metadata": {
        "id": "XHQ6UvoQDdC5"
      },
      "execution_count": null,
      "outputs": []
    }
  ]
}